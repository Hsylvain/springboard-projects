{
  "nbformat": 4,
  "nbformat_minor": 0,
  "metadata": {
    "kernelspec": {
      "display_name": "Python 3",
      "language": "python",
      "name": "python3"
    },
    "language_info": {
      "codemirror_mode": {
        "name": "ipython",
        "version": 3
      },
      "file_extension": ".py",
      "mimetype": "text/x-python",
      "name": "python",
      "nbconvert_exporter": "python",
      "pygments_lexer": "ipython3",
      "version": "3.7.3"
    },
    "colab": {
      "provenance": []
    }
  },
  "cells": [
    {
      "cell_type": "markdown",
      "metadata": {
        "id": "A0TQHyu8cAU0"
      },
      "source": [
        "# London Housing Case Study - Tier Two Complete\n",
        "\n",
        "## Objectives\n",
        "Hey! Great job getting through those challenging DataCamp courses. You're learning a lot in a short span of time. Let's see how this new knowledge can help solve a real world problem.\n",
        "\n",
        "In this notebook, we're going to apply the skills you've been learning, bridging the gap between the controlled environment of DataCamp and the *slightly* messier work that data scientists do with actual datasets!\n",
        "\n",
        "Here’s the mystery we’re going to solve: ***which boroughs of London have seen the greatest increase in housing prices, on average, over the last two decades?***\n",
        "\n",
        "\n",
        "A borough is just a fancy word for district. You may be familiar with the five boroughs of New York… well, there are 32 boroughs within Greater London [(here's some info for the curious)](https://en.wikipedia.org/wiki/London_boroughs). Some of them are more desirable areas to live in, and the data will reflect that with a greater rise in housing prices.\n",
        "\n",
        "This is the Tier Two notebook. Don't sweat it if you got stuck on the highest difficulty. You'll have a lot more guidance this time around. If you get stuck again, you can always drop down to Tier One. Just remember to come back around and redo the project on the higher difficulty.\n",
        "\n",
        "This challenge will make use of only what you learned in the following DataCamp courses:\n",
        "- Prework courses (Introduction to Python for Data Science, Intermediate Python for Data Science)\n",
        "- Data Types for Data Science\n",
        "- Python Data Science Toolbox (Part One)\n",
        "- pandas Foundations\n",
        "- Manipulating DataFrames with pandas\n",
        "- Merging DataFrames with pandas\n",
        "\n",
        "Of the tools, techniques and concepts in the above DataCamp courses, this challenge should require the application of the following:\n",
        "- **pandas**\n",
        "    - **data ingestion and inspection** (pandas Foundations, Module One)\n",
        "    - **exploratory data analysis** (pandas Foundations, Module Two)\n",
        "    - **tidying and cleaning** (Manipulating DataFrames with pandas, Module Three)\n",
        "    - **transforming DataFrames** (Manipulating DataFrames with pandas, Module One)\n",
        "    - **subsetting DataFrames with lists** (Manipulating DataFrames with pandas, Module One)\n",
        "    - **filtering DataFrames** (Manipulating DataFrames with pandas, Module One)\n",
        "    - **grouping data** (Manipulating DataFrames with pandas, Module Four)\n",
        "    - **melting data** (Manipulating DataFrames with pandas, Module Three)\n",
        "    - **advanced indexing** (Manipulating DataFrames with pandas, Module Four)\n",
        "- **matplotlib** (Intermediate Python for Data Science, Module One)\n",
        "- **fundamental data types** (Data Types for Data Science, Module One)\n",
        "- **dictionaries** (Intermediate Python for Data Science, Module Two)\n",
        "- **handling dates and times** (Data Types for Data Science, Module Four)\n",
        "- **function definition** (Python Data Science Toolbox - Part One, Module One)\n",
        "- **default arguments, variable length, and scope** (Python Data Science Toolbox - Part One, Module Two)\n",
        "- **lambda functions and error handling** (Python Data Science Toolbox - Part One, Module Four)"
      ]
    },
    {
      "cell_type": "markdown",
      "metadata": {
        "id": "IzUYCh-EcAU2"
      },
      "source": [
        "## The Data Science Pipeline\n",
        "Data Science is magical. In this case study, you'll get to apply some complex machine learning algorithms. But as  [David Spiegelhalter](https://www.youtube.com/watch?v=oUs1uvsz0Ok) reminds us, there is no substitute for simply **taking a really, really good look at the data.** Sometimes, this is all we need to answer our question.\n",
        "\n",
        "Data Science projects generally adhere to the four stages of Data Science Pipeline:\n",
        "1. Sourcing and loading\n",
        "2. Cleaning, transforming, and visualizing\n",
        "3. Modeling\n",
        "4. Evaluating and concluding"
      ]
    },
    {
      "cell_type": "markdown",
      "metadata": {
        "id": "u8vWP1fccAU3"
      },
      "source": [
        "### 1. Sourcing and Loading\n",
        "\n",
        "Any Data Science project kicks off by importing  ***pandas***. The documentation of this wonderful library can be found [here](https://pandas.pydata.org/). As you've seen, pandas is conveniently connected to the [Numpy](http://www.numpy.org/) and [Matplotlib](https://matplotlib.org/) libraries.\n",
        "\n",
        "***Hint:*** This part of the data science pipeline will test those skills you acquired in the pandas Foundations course, Module One."
      ]
    },
    {
      "cell_type": "markdown",
      "metadata": {
        "id": "Eni457VLcAU4"
      },
      "source": [
        "#### 1.1. Importing Libraries"
      ]
    },
    {
      "cell_type": "code",
      "metadata": {
        "id": "S1MNvAo4cAU4"
      },
      "source": [
        "# Let's import the pandas, numpy libraries as pd, and np respectively.\n",
        "import pandas as pd\n",
        "import pandas as np\n",
        "\n",
        "# Load the pyplot collection of functions from matplotlib, as plt\n",
        "import matplotlib.pyplot as plt"
      ],
      "execution_count": 3,
      "outputs": []
    },
    {
      "cell_type": "markdown",
      "metadata": {
        "id": "nXaI_sTJcAU7"
      },
      "source": [
        "#### 1.2.  Loading the data\n",
        "\n",
        "\n",
        "Your data comes from the [London Datastore](https://data.london.gov.uk/): a free, open-source data-sharing portal for London-oriented datasets."
      ]
    },
    {
      "cell_type": "code",
      "metadata": {
        "id": "yQaBWqficAU8"
      },
      "source": [
        "# First, make a variable called url_LondonHousePrices, and assign it the following link, enclosed in quotation-marks as a string:\n",
        "# https://data.london.gov.uk/download/uk-house-price-index/70ac0766-8902-4eb5-aab5-01951aaed773/UK%20House%20price%20index.xls\n",
        "\n",
        "url_LondonHousePrices = \"https://data.london.gov.uk/download/uk-house-price-index/70ac0766-8902-4eb5-aab5-01951aaed773/UK%20House%20price%20index.xls\"\n",
        "\n",
        "# The dataset we're interested in contains the Average prices of the houses, and is actually on a particular sheet of the Excel file.\n",
        "# As a result, we need to specify the sheet name in the read_excel() method.\n",
        "# Put this data into a variable called properties.\n",
        "properties = pd.read_excel(url_LondonHousePrices, sheet_name='Average price', index_col= None)"
      ],
      "execution_count": 4,
      "outputs": []
    },
    {
      "cell_type": "markdown",
      "metadata": {
        "id": "Z7D2LXfMcAU-"
      },
      "source": [
        "### 2. Cleaning, transforming, and visualizing\n",
        "This second stage is arguably the most important part of any Data Science project. The first thing to do is take a proper look at the data. Cleaning forms the majority of this stage, and can be done both before or after Transformation.\n",
        "\n",
        "The end goal of data cleaning is to have tidy data. When data is tidy:\n",
        "\n",
        "1. Each variable has a column.\n",
        "2. Each observation forms a row.\n",
        "\n",
        "Keep the end goal in mind as you move through this process, every step will take you closer.\n",
        "\n",
        "\n",
        "\n",
        "***Hint:*** This part of the data science pipeline should test those skills you acquired in:\n",
        "- Intermediate Python for data science, all modules.\n",
        "- pandas Foundations, all modules.\n",
        "- Manipulating DataFrames with pandas, all modules.\n",
        "- Data Types for Data Science, Module Four.\n",
        "- Python Data Science Toolbox - Part One, all modules"
      ]
    },
    {
      "cell_type": "markdown",
      "metadata": {
        "id": "h4ta27NycAU_"
      },
      "source": [
        "#### 2.1. Exploring the data"
      ]
    },
    {
      "cell_type": "code",
      "metadata": {
        "id": "QXVWC7ZecAU_",
        "colab": {
          "base_uri": "https://localhost:8080/"
        },
        "outputId": "0547fd43-c514-491b-bd1f-4b314e40b75d"
      },
      "source": [
        "# First off, let's use .shape feature of pandas DataFrames to look at the number of rows and columns.\n",
        "properties.shape"
      ],
      "execution_count": 6,
      "outputs": [
        {
          "output_type": "execute_result",
          "data": {
            "text/plain": [
              "(340, 49)"
            ]
          },
          "metadata": {},
          "execution_count": 6
        }
      ]
    },
    {
      "cell_type": "code",
      "metadata": {
        "id": "R04S1lGycAVB",
        "colab": {
          "base_uri": "https://localhost:8080/",
          "height": 404
        },
        "outputId": "fcddba40-003b-45e0-97a4-f56ec78ae466"
      },
      "source": [
        "# Using the .head() method, let's check out the state of our dataset.\n",
        "properties.head()"
      ],
      "execution_count": 7,
      "outputs": [
        {
          "output_type": "execute_result",
          "data": {
            "text/plain": [
              "  Unnamed: 0 City of London Barking & Dagenham       Barnet       Bexley  \\\n",
              "0        NaT      E09000001          E09000002    E09000003    E09000004   \n",
              "1 1995-01-01    91448.98487         50460.2266  93284.51832  64958.09036   \n",
              "2 1995-02-01    82202.77314        51085.77983  93190.16963  64787.92069   \n",
              "3 1995-03-01    79120.70256        51268.96956  92247.52435  64367.49344   \n",
              "4 1995-04-01    77101.20804        53133.50526  90762.87492  64277.66881   \n",
              "\n",
              "         Brent      Bromley       Camden      Croydon       Ealing  ...  \\\n",
              "0    E09000005    E09000006    E09000007    E09000008    E09000009  ...   \n",
              "1  71306.56698  81671.47692  120932.8881  69158.16225  79885.89069  ...   \n",
              "2  72022.26197  81657.55944  119508.8622  68951.09542  80897.06551  ...   \n",
              "3  72015.76274  81449.31143  120282.2131  68712.44341  81379.86288  ...   \n",
              "4  72965.63094  81124.41227   120097.899  68610.04641  82188.90498  ...   \n",
              "\n",
              "    NORTH WEST YORKS & THE HUMBER EAST MIDLANDS WEST MIDLANDS EAST OF ENGLAND  \\\n",
              "0    E12000002          E12000003     E12000004     E12000005       E12000006   \n",
              "1  43958.48001        44803.42878   45544.52227   48527.52339      56701.5961   \n",
              "2  43925.42289        44528.80721   46051.57066   49341.29029     56593.59475   \n",
              "3   44434.8681        45200.46775   45383.82395   49442.17973     56171.18278   \n",
              "4   44267.7796        45614.34341   46124.23045   49455.93299     56567.89582   \n",
              "\n",
              "        LONDON   SOUTH EAST   SOUTH WEST Unnamed: 47      England  \n",
              "0    E12000007    E12000008    E12000009         NaN    E92000001  \n",
              "1  74435.76052  64018.87894   54705.1579         NaN  53202.77128  \n",
              "2  72777.93709  63715.02399  54356.14843         NaN   53096.1549  \n",
              "3  73896.84204  64113.60858  53583.07667         NaN   53201.2843  \n",
              "4  74455.28754  64623.22395  54786.01938         NaN   53590.8548  \n",
              "\n",
              "[5 rows x 49 columns]"
            ],
            "text/html": [
              "\n",
              "  <div id=\"df-0ea7618c-b133-4f96-a983-8d04317239cb\">\n",
              "    <div class=\"colab-df-container\">\n",
              "      <div>\n",
              "<style scoped>\n",
              "    .dataframe tbody tr th:only-of-type {\n",
              "        vertical-align: middle;\n",
              "    }\n",
              "\n",
              "    .dataframe tbody tr th {\n",
              "        vertical-align: top;\n",
              "    }\n",
              "\n",
              "    .dataframe thead th {\n",
              "        text-align: right;\n",
              "    }\n",
              "</style>\n",
              "<table border=\"1\" class=\"dataframe\">\n",
              "  <thead>\n",
              "    <tr style=\"text-align: right;\">\n",
              "      <th></th>\n",
              "      <th>Unnamed: 0</th>\n",
              "      <th>City of London</th>\n",
              "      <th>Barking &amp; Dagenham</th>\n",
              "      <th>Barnet</th>\n",
              "      <th>Bexley</th>\n",
              "      <th>Brent</th>\n",
              "      <th>Bromley</th>\n",
              "      <th>Camden</th>\n",
              "      <th>Croydon</th>\n",
              "      <th>Ealing</th>\n",
              "      <th>...</th>\n",
              "      <th>NORTH WEST</th>\n",
              "      <th>YORKS &amp; THE HUMBER</th>\n",
              "      <th>EAST MIDLANDS</th>\n",
              "      <th>WEST MIDLANDS</th>\n",
              "      <th>EAST OF ENGLAND</th>\n",
              "      <th>LONDON</th>\n",
              "      <th>SOUTH EAST</th>\n",
              "      <th>SOUTH WEST</th>\n",
              "      <th>Unnamed: 47</th>\n",
              "      <th>England</th>\n",
              "    </tr>\n",
              "  </thead>\n",
              "  <tbody>\n",
              "    <tr>\n",
              "      <th>0</th>\n",
              "      <td>NaT</td>\n",
              "      <td>E09000001</td>\n",
              "      <td>E09000002</td>\n",
              "      <td>E09000003</td>\n",
              "      <td>E09000004</td>\n",
              "      <td>E09000005</td>\n",
              "      <td>E09000006</td>\n",
              "      <td>E09000007</td>\n",
              "      <td>E09000008</td>\n",
              "      <td>E09000009</td>\n",
              "      <td>...</td>\n",
              "      <td>E12000002</td>\n",
              "      <td>E12000003</td>\n",
              "      <td>E12000004</td>\n",
              "      <td>E12000005</td>\n",
              "      <td>E12000006</td>\n",
              "      <td>E12000007</td>\n",
              "      <td>E12000008</td>\n",
              "      <td>E12000009</td>\n",
              "      <td>NaN</td>\n",
              "      <td>E92000001</td>\n",
              "    </tr>\n",
              "    <tr>\n",
              "      <th>1</th>\n",
              "      <td>1995-01-01</td>\n",
              "      <td>91448.98487</td>\n",
              "      <td>50460.2266</td>\n",
              "      <td>93284.51832</td>\n",
              "      <td>64958.09036</td>\n",
              "      <td>71306.56698</td>\n",
              "      <td>81671.47692</td>\n",
              "      <td>120932.8881</td>\n",
              "      <td>69158.16225</td>\n",
              "      <td>79885.89069</td>\n",
              "      <td>...</td>\n",
              "      <td>43958.48001</td>\n",
              "      <td>44803.42878</td>\n",
              "      <td>45544.52227</td>\n",
              "      <td>48527.52339</td>\n",
              "      <td>56701.5961</td>\n",
              "      <td>74435.76052</td>\n",
              "      <td>64018.87894</td>\n",
              "      <td>54705.1579</td>\n",
              "      <td>NaN</td>\n",
              "      <td>53202.77128</td>\n",
              "    </tr>\n",
              "    <tr>\n",
              "      <th>2</th>\n",
              "      <td>1995-02-01</td>\n",
              "      <td>82202.77314</td>\n",
              "      <td>51085.77983</td>\n",
              "      <td>93190.16963</td>\n",
              "      <td>64787.92069</td>\n",
              "      <td>72022.26197</td>\n",
              "      <td>81657.55944</td>\n",
              "      <td>119508.8622</td>\n",
              "      <td>68951.09542</td>\n",
              "      <td>80897.06551</td>\n",
              "      <td>...</td>\n",
              "      <td>43925.42289</td>\n",
              "      <td>44528.80721</td>\n",
              "      <td>46051.57066</td>\n",
              "      <td>49341.29029</td>\n",
              "      <td>56593.59475</td>\n",
              "      <td>72777.93709</td>\n",
              "      <td>63715.02399</td>\n",
              "      <td>54356.14843</td>\n",
              "      <td>NaN</td>\n",
              "      <td>53096.1549</td>\n",
              "    </tr>\n",
              "    <tr>\n",
              "      <th>3</th>\n",
              "      <td>1995-03-01</td>\n",
              "      <td>79120.70256</td>\n",
              "      <td>51268.96956</td>\n",
              "      <td>92247.52435</td>\n",
              "      <td>64367.49344</td>\n",
              "      <td>72015.76274</td>\n",
              "      <td>81449.31143</td>\n",
              "      <td>120282.2131</td>\n",
              "      <td>68712.44341</td>\n",
              "      <td>81379.86288</td>\n",
              "      <td>...</td>\n",
              "      <td>44434.8681</td>\n",
              "      <td>45200.46775</td>\n",
              "      <td>45383.82395</td>\n",
              "      <td>49442.17973</td>\n",
              "      <td>56171.18278</td>\n",
              "      <td>73896.84204</td>\n",
              "      <td>64113.60858</td>\n",
              "      <td>53583.07667</td>\n",
              "      <td>NaN</td>\n",
              "      <td>53201.2843</td>\n",
              "    </tr>\n",
              "    <tr>\n",
              "      <th>4</th>\n",
              "      <td>1995-04-01</td>\n",
              "      <td>77101.20804</td>\n",
              "      <td>53133.50526</td>\n",
              "      <td>90762.87492</td>\n",
              "      <td>64277.66881</td>\n",
              "      <td>72965.63094</td>\n",
              "      <td>81124.41227</td>\n",
              "      <td>120097.899</td>\n",
              "      <td>68610.04641</td>\n",
              "      <td>82188.90498</td>\n",
              "      <td>...</td>\n",
              "      <td>44267.7796</td>\n",
              "      <td>45614.34341</td>\n",
              "      <td>46124.23045</td>\n",
              "      <td>49455.93299</td>\n",
              "      <td>56567.89582</td>\n",
              "      <td>74455.28754</td>\n",
              "      <td>64623.22395</td>\n",
              "      <td>54786.01938</td>\n",
              "      <td>NaN</td>\n",
              "      <td>53590.8548</td>\n",
              "    </tr>\n",
              "  </tbody>\n",
              "</table>\n",
              "<p>5 rows × 49 columns</p>\n",
              "</div>\n",
              "      <button class=\"colab-df-convert\" onclick=\"convertToInteractive('df-0ea7618c-b133-4f96-a983-8d04317239cb')\"\n",
              "              title=\"Convert this dataframe to an interactive table.\"\n",
              "              style=\"display:none;\">\n",
              "        \n",
              "  <svg xmlns=\"http://www.w3.org/2000/svg\" height=\"24px\"viewBox=\"0 0 24 24\"\n",
              "       width=\"24px\">\n",
              "    <path d=\"M0 0h24v24H0V0z\" fill=\"none\"/>\n",
              "    <path d=\"M18.56 5.44l.94 2.06.94-2.06 2.06-.94-2.06-.94-.94-2.06-.94 2.06-2.06.94zm-11 1L8.5 8.5l.94-2.06 2.06-.94-2.06-.94L8.5 2.5l-.94 2.06-2.06.94zm10 10l.94 2.06.94-2.06 2.06-.94-2.06-.94-.94-2.06-.94 2.06-2.06.94z\"/><path d=\"M17.41 7.96l-1.37-1.37c-.4-.4-.92-.59-1.43-.59-.52 0-1.04.2-1.43.59L10.3 9.45l-7.72 7.72c-.78.78-.78 2.05 0 2.83L4 21.41c.39.39.9.59 1.41.59.51 0 1.02-.2 1.41-.59l7.78-7.78 2.81-2.81c.8-.78.8-2.07 0-2.86zM5.41 20L4 18.59l7.72-7.72 1.47 1.35L5.41 20z\"/>\n",
              "  </svg>\n",
              "      </button>\n",
              "      \n",
              "  <style>\n",
              "    .colab-df-container {\n",
              "      display:flex;\n",
              "      flex-wrap:wrap;\n",
              "      gap: 12px;\n",
              "    }\n",
              "\n",
              "    .colab-df-convert {\n",
              "      background-color: #E8F0FE;\n",
              "      border: none;\n",
              "      border-radius: 50%;\n",
              "      cursor: pointer;\n",
              "      display: none;\n",
              "      fill: #1967D2;\n",
              "      height: 32px;\n",
              "      padding: 0 0 0 0;\n",
              "      width: 32px;\n",
              "    }\n",
              "\n",
              "    .colab-df-convert:hover {\n",
              "      background-color: #E2EBFA;\n",
              "      box-shadow: 0px 1px 2px rgba(60, 64, 67, 0.3), 0px 1px 3px 1px rgba(60, 64, 67, 0.15);\n",
              "      fill: #174EA6;\n",
              "    }\n",
              "\n",
              "    [theme=dark] .colab-df-convert {\n",
              "      background-color: #3B4455;\n",
              "      fill: #D2E3FC;\n",
              "    }\n",
              "\n",
              "    [theme=dark] .colab-df-convert:hover {\n",
              "      background-color: #434B5C;\n",
              "      box-shadow: 0px 1px 3px 1px rgba(0, 0, 0, 0.15);\n",
              "      filter: drop-shadow(0px 1px 2px rgba(0, 0, 0, 0.3));\n",
              "      fill: #FFFFFF;\n",
              "    }\n",
              "  </style>\n",
              "\n",
              "      <script>\n",
              "        const buttonEl =\n",
              "          document.querySelector('#df-0ea7618c-b133-4f96-a983-8d04317239cb button.colab-df-convert');\n",
              "        buttonEl.style.display =\n",
              "          google.colab.kernel.accessAllowed ? 'block' : 'none';\n",
              "\n",
              "        async function convertToInteractive(key) {\n",
              "          const element = document.querySelector('#df-0ea7618c-b133-4f96-a983-8d04317239cb');\n",
              "          const dataTable =\n",
              "            await google.colab.kernel.invokeFunction('convertToInteractive',\n",
              "                                                     [key], {});\n",
              "          if (!dataTable) return;\n",
              "\n",
              "          const docLinkHtml = 'Like what you see? Visit the ' +\n",
              "            '<a target=\"_blank\" href=https://colab.research.google.com/notebooks/data_table.ipynb>data table notebook</a>'\n",
              "            + ' to learn more about interactive tables.';\n",
              "          element.innerHTML = '';\n",
              "          dataTable['output_type'] = 'display_data';\n",
              "          await google.colab.output.renderOutput(dataTable, element);\n",
              "          const docLink = document.createElement('div');\n",
              "          docLink.innerHTML = docLinkHtml;\n",
              "          element.appendChild(docLink);\n",
              "        }\n",
              "      </script>\n",
              "    </div>\n",
              "  </div>\n",
              "  "
            ]
          },
          "metadata": {},
          "execution_count": 7
        }
      ]
    },
    {
      "cell_type": "markdown",
      "metadata": {
        "id": "-5ffSAxDcAVD"
      },
      "source": [
        "Oh no! What are you supposed to do with this?\n",
        "\n",
        "You've got the data, but it doesn't look tidy. At this stage, you'd struggle to perform analysis on it. It is normal for your initial data set to be formatted in a way that is not conducive to analysis. A big part of our job is fixing that.\n",
        "\n",
        "Best practice is for pandas DataFrames to contain the observations of interest as rows, and the features of those observations as columns. You want tidy DataFrames: whose rows are observations and whose columns are variables.\n",
        "\n",
        "Notice here that the column headings are the particular boroughs, which is our observation of interest. The first column contains datetime objects that capture a particular month and year, which is a variable. Most of the other cell-values are the average proprety values of the borough corresponding to that time stamp.\n",
        "\n",
        "Clearly, we need to roll our sleeves up and do some cleaning."
      ]
    },
    {
      "cell_type": "markdown",
      "metadata": {
        "id": "7_STF8sZcAVE"
      },
      "source": [
        "####  2.2. Cleaning the data (Part 1)\n",
        "Data cleaning has a bad rep, but remember what your momma told you: cleanliness is next to godliness. Data cleaning can be really satisfying and fun. In the dark ages of programming, data cleaning was a tedious and difficult ordeal. Nowadays, new and improved tools have simplified the process. Getting good at data cleaning opens up a world of possibilities for data scientists and programmers.\n",
        "\n",
        "The first operation you want to do on the dataset is called **transposition**. you *transpose* a table when you flip the columns into rows, and *vice versa*.\n",
        "\n",
        "If you transpose this DataFrame then the borough names will become the row indices, and the date time objects will become the column headers. Since your end goal is tidy data, where each row will represent a borough and each column will contain data about that borough at a certain point in time, transposing the table bring you closer to where you want to be.\n",
        "\n",
        "Python makes transposition simple.\n",
        "\n",
        "Each pandas DataFrame already has the *.T* attribute which is the transposed version of that DataFrame.\n",
        "\n",
        "Assign the transposed version of the original to a new variable and call it *properties_T*.\n",
        "\n",
        "Boom! You’ve got a transposed table to play with."
      ]
    },
    {
      "cell_type": "code",
      "metadata": {
        "id": "MElF4IBacAVF"
      },
      "source": [
        "# Do this here\n",
        "properties_T = properties"
      ],
      "execution_count": 9,
      "outputs": []
    },
    {
      "cell_type": "code",
      "metadata": {
        "id": "E10vl2gbcAVG",
        "colab": {
          "base_uri": "https://localhost:8080/",
          "height": 404
        },
        "outputId": "9d262097-e81a-4378-f1f8-115b626ca67d"
      },
      "source": [
        "# Let's check the head of our new Transposed DataFrame.\n",
        "properties_T.head()"
      ],
      "execution_count": 10,
      "outputs": [
        {
          "output_type": "execute_result",
          "data": {
            "text/plain": [
              "  Unnamed: 0 City of London Barking & Dagenham       Barnet       Bexley  \\\n",
              "0        NaT      E09000001          E09000002    E09000003    E09000004   \n",
              "1 1995-01-01    91448.98487         50460.2266  93284.51832  64958.09036   \n",
              "2 1995-02-01    82202.77314        51085.77983  93190.16963  64787.92069   \n",
              "3 1995-03-01    79120.70256        51268.96956  92247.52435  64367.49344   \n",
              "4 1995-04-01    77101.20804        53133.50526  90762.87492  64277.66881   \n",
              "\n",
              "         Brent      Bromley       Camden      Croydon       Ealing  ...  \\\n",
              "0    E09000005    E09000006    E09000007    E09000008    E09000009  ...   \n",
              "1  71306.56698  81671.47692  120932.8881  69158.16225  79885.89069  ...   \n",
              "2  72022.26197  81657.55944  119508.8622  68951.09542  80897.06551  ...   \n",
              "3  72015.76274  81449.31143  120282.2131  68712.44341  81379.86288  ...   \n",
              "4  72965.63094  81124.41227   120097.899  68610.04641  82188.90498  ...   \n",
              "\n",
              "    NORTH WEST YORKS & THE HUMBER EAST MIDLANDS WEST MIDLANDS EAST OF ENGLAND  \\\n",
              "0    E12000002          E12000003     E12000004     E12000005       E12000006   \n",
              "1  43958.48001        44803.42878   45544.52227   48527.52339      56701.5961   \n",
              "2  43925.42289        44528.80721   46051.57066   49341.29029     56593.59475   \n",
              "3   44434.8681        45200.46775   45383.82395   49442.17973     56171.18278   \n",
              "4   44267.7796        45614.34341   46124.23045   49455.93299     56567.89582   \n",
              "\n",
              "        LONDON   SOUTH EAST   SOUTH WEST Unnamed: 47      England  \n",
              "0    E12000007    E12000008    E12000009         NaN    E92000001  \n",
              "1  74435.76052  64018.87894   54705.1579         NaN  53202.77128  \n",
              "2  72777.93709  63715.02399  54356.14843         NaN   53096.1549  \n",
              "3  73896.84204  64113.60858  53583.07667         NaN   53201.2843  \n",
              "4  74455.28754  64623.22395  54786.01938         NaN   53590.8548  \n",
              "\n",
              "[5 rows x 49 columns]"
            ],
            "text/html": [
              "\n",
              "  <div id=\"df-adf49697-fd9a-46f4-a73e-b96bde2050f6\">\n",
              "    <div class=\"colab-df-container\">\n",
              "      <div>\n",
              "<style scoped>\n",
              "    .dataframe tbody tr th:only-of-type {\n",
              "        vertical-align: middle;\n",
              "    }\n",
              "\n",
              "    .dataframe tbody tr th {\n",
              "        vertical-align: top;\n",
              "    }\n",
              "\n",
              "    .dataframe thead th {\n",
              "        text-align: right;\n",
              "    }\n",
              "</style>\n",
              "<table border=\"1\" class=\"dataframe\">\n",
              "  <thead>\n",
              "    <tr style=\"text-align: right;\">\n",
              "      <th></th>\n",
              "      <th>Unnamed: 0</th>\n",
              "      <th>City of London</th>\n",
              "      <th>Barking &amp; Dagenham</th>\n",
              "      <th>Barnet</th>\n",
              "      <th>Bexley</th>\n",
              "      <th>Brent</th>\n",
              "      <th>Bromley</th>\n",
              "      <th>Camden</th>\n",
              "      <th>Croydon</th>\n",
              "      <th>Ealing</th>\n",
              "      <th>...</th>\n",
              "      <th>NORTH WEST</th>\n",
              "      <th>YORKS &amp; THE HUMBER</th>\n",
              "      <th>EAST MIDLANDS</th>\n",
              "      <th>WEST MIDLANDS</th>\n",
              "      <th>EAST OF ENGLAND</th>\n",
              "      <th>LONDON</th>\n",
              "      <th>SOUTH EAST</th>\n",
              "      <th>SOUTH WEST</th>\n",
              "      <th>Unnamed: 47</th>\n",
              "      <th>England</th>\n",
              "    </tr>\n",
              "  </thead>\n",
              "  <tbody>\n",
              "    <tr>\n",
              "      <th>0</th>\n",
              "      <td>NaT</td>\n",
              "      <td>E09000001</td>\n",
              "      <td>E09000002</td>\n",
              "      <td>E09000003</td>\n",
              "      <td>E09000004</td>\n",
              "      <td>E09000005</td>\n",
              "      <td>E09000006</td>\n",
              "      <td>E09000007</td>\n",
              "      <td>E09000008</td>\n",
              "      <td>E09000009</td>\n",
              "      <td>...</td>\n",
              "      <td>E12000002</td>\n",
              "      <td>E12000003</td>\n",
              "      <td>E12000004</td>\n",
              "      <td>E12000005</td>\n",
              "      <td>E12000006</td>\n",
              "      <td>E12000007</td>\n",
              "      <td>E12000008</td>\n",
              "      <td>E12000009</td>\n",
              "      <td>NaN</td>\n",
              "      <td>E92000001</td>\n",
              "    </tr>\n",
              "    <tr>\n",
              "      <th>1</th>\n",
              "      <td>1995-01-01</td>\n",
              "      <td>91448.98487</td>\n",
              "      <td>50460.2266</td>\n",
              "      <td>93284.51832</td>\n",
              "      <td>64958.09036</td>\n",
              "      <td>71306.56698</td>\n",
              "      <td>81671.47692</td>\n",
              "      <td>120932.8881</td>\n",
              "      <td>69158.16225</td>\n",
              "      <td>79885.89069</td>\n",
              "      <td>...</td>\n",
              "      <td>43958.48001</td>\n",
              "      <td>44803.42878</td>\n",
              "      <td>45544.52227</td>\n",
              "      <td>48527.52339</td>\n",
              "      <td>56701.5961</td>\n",
              "      <td>74435.76052</td>\n",
              "      <td>64018.87894</td>\n",
              "      <td>54705.1579</td>\n",
              "      <td>NaN</td>\n",
              "      <td>53202.77128</td>\n",
              "    </tr>\n",
              "    <tr>\n",
              "      <th>2</th>\n",
              "      <td>1995-02-01</td>\n",
              "      <td>82202.77314</td>\n",
              "      <td>51085.77983</td>\n",
              "      <td>93190.16963</td>\n",
              "      <td>64787.92069</td>\n",
              "      <td>72022.26197</td>\n",
              "      <td>81657.55944</td>\n",
              "      <td>119508.8622</td>\n",
              "      <td>68951.09542</td>\n",
              "      <td>80897.06551</td>\n",
              "      <td>...</td>\n",
              "      <td>43925.42289</td>\n",
              "      <td>44528.80721</td>\n",
              "      <td>46051.57066</td>\n",
              "      <td>49341.29029</td>\n",
              "      <td>56593.59475</td>\n",
              "      <td>72777.93709</td>\n",
              "      <td>63715.02399</td>\n",
              "      <td>54356.14843</td>\n",
              "      <td>NaN</td>\n",
              "      <td>53096.1549</td>\n",
              "    </tr>\n",
              "    <tr>\n",
              "      <th>3</th>\n",
              "      <td>1995-03-01</td>\n",
              "      <td>79120.70256</td>\n",
              "      <td>51268.96956</td>\n",
              "      <td>92247.52435</td>\n",
              "      <td>64367.49344</td>\n",
              "      <td>72015.76274</td>\n",
              "      <td>81449.31143</td>\n",
              "      <td>120282.2131</td>\n",
              "      <td>68712.44341</td>\n",
              "      <td>81379.86288</td>\n",
              "      <td>...</td>\n",
              "      <td>44434.8681</td>\n",
              "      <td>45200.46775</td>\n",
              "      <td>45383.82395</td>\n",
              "      <td>49442.17973</td>\n",
              "      <td>56171.18278</td>\n",
              "      <td>73896.84204</td>\n",
              "      <td>64113.60858</td>\n",
              "      <td>53583.07667</td>\n",
              "      <td>NaN</td>\n",
              "      <td>53201.2843</td>\n",
              "    </tr>\n",
              "    <tr>\n",
              "      <th>4</th>\n",
              "      <td>1995-04-01</td>\n",
              "      <td>77101.20804</td>\n",
              "      <td>53133.50526</td>\n",
              "      <td>90762.87492</td>\n",
              "      <td>64277.66881</td>\n",
              "      <td>72965.63094</td>\n",
              "      <td>81124.41227</td>\n",
              "      <td>120097.899</td>\n",
              "      <td>68610.04641</td>\n",
              "      <td>82188.90498</td>\n",
              "      <td>...</td>\n",
              "      <td>44267.7796</td>\n",
              "      <td>45614.34341</td>\n",
              "      <td>46124.23045</td>\n",
              "      <td>49455.93299</td>\n",
              "      <td>56567.89582</td>\n",
              "      <td>74455.28754</td>\n",
              "      <td>64623.22395</td>\n",
              "      <td>54786.01938</td>\n",
              "      <td>NaN</td>\n",
              "      <td>53590.8548</td>\n",
              "    </tr>\n",
              "  </tbody>\n",
              "</table>\n",
              "<p>5 rows × 49 columns</p>\n",
              "</div>\n",
              "      <button class=\"colab-df-convert\" onclick=\"convertToInteractive('df-adf49697-fd9a-46f4-a73e-b96bde2050f6')\"\n",
              "              title=\"Convert this dataframe to an interactive table.\"\n",
              "              style=\"display:none;\">\n",
              "        \n",
              "  <svg xmlns=\"http://www.w3.org/2000/svg\" height=\"24px\"viewBox=\"0 0 24 24\"\n",
              "       width=\"24px\">\n",
              "    <path d=\"M0 0h24v24H0V0z\" fill=\"none\"/>\n",
              "    <path d=\"M18.56 5.44l.94 2.06.94-2.06 2.06-.94-2.06-.94-.94-2.06-.94 2.06-2.06.94zm-11 1L8.5 8.5l.94-2.06 2.06-.94-2.06-.94L8.5 2.5l-.94 2.06-2.06.94zm10 10l.94 2.06.94-2.06 2.06-.94-2.06-.94-.94-2.06-.94 2.06-2.06.94z\"/><path d=\"M17.41 7.96l-1.37-1.37c-.4-.4-.92-.59-1.43-.59-.52 0-1.04.2-1.43.59L10.3 9.45l-7.72 7.72c-.78.78-.78 2.05 0 2.83L4 21.41c.39.39.9.59 1.41.59.51 0 1.02-.2 1.41-.59l7.78-7.78 2.81-2.81c.8-.78.8-2.07 0-2.86zM5.41 20L4 18.59l7.72-7.72 1.47 1.35L5.41 20z\"/>\n",
              "  </svg>\n",
              "      </button>\n",
              "      \n",
              "  <style>\n",
              "    .colab-df-container {\n",
              "      display:flex;\n",
              "      flex-wrap:wrap;\n",
              "      gap: 12px;\n",
              "    }\n",
              "\n",
              "    .colab-df-convert {\n",
              "      background-color: #E8F0FE;\n",
              "      border: none;\n",
              "      border-radius: 50%;\n",
              "      cursor: pointer;\n",
              "      display: none;\n",
              "      fill: #1967D2;\n",
              "      height: 32px;\n",
              "      padding: 0 0 0 0;\n",
              "      width: 32px;\n",
              "    }\n",
              "\n",
              "    .colab-df-convert:hover {\n",
              "      background-color: #E2EBFA;\n",
              "      box-shadow: 0px 1px 2px rgba(60, 64, 67, 0.3), 0px 1px 3px 1px rgba(60, 64, 67, 0.15);\n",
              "      fill: #174EA6;\n",
              "    }\n",
              "\n",
              "    [theme=dark] .colab-df-convert {\n",
              "      background-color: #3B4455;\n",
              "      fill: #D2E3FC;\n",
              "    }\n",
              "\n",
              "    [theme=dark] .colab-df-convert:hover {\n",
              "      background-color: #434B5C;\n",
              "      box-shadow: 0px 1px 3px 1px rgba(0, 0, 0, 0.15);\n",
              "      filter: drop-shadow(0px 1px 2px rgba(0, 0, 0, 0.3));\n",
              "      fill: #FFFFFF;\n",
              "    }\n",
              "  </style>\n",
              "\n",
              "      <script>\n",
              "        const buttonEl =\n",
              "          document.querySelector('#df-adf49697-fd9a-46f4-a73e-b96bde2050f6 button.colab-df-convert');\n",
              "        buttonEl.style.display =\n",
              "          google.colab.kernel.accessAllowed ? 'block' : 'none';\n",
              "\n",
              "        async function convertToInteractive(key) {\n",
              "          const element = document.querySelector('#df-adf49697-fd9a-46f4-a73e-b96bde2050f6');\n",
              "          const dataTable =\n",
              "            await google.colab.kernel.invokeFunction('convertToInteractive',\n",
              "                                                     [key], {});\n",
              "          if (!dataTable) return;\n",
              "\n",
              "          const docLinkHtml = 'Like what you see? Visit the ' +\n",
              "            '<a target=\"_blank\" href=https://colab.research.google.com/notebooks/data_table.ipynb>data table notebook</a>'\n",
              "            + ' to learn more about interactive tables.';\n",
              "          element.innerHTML = '';\n",
              "          dataTable['output_type'] = 'display_data';\n",
              "          await google.colab.output.renderOutput(dataTable, element);\n",
              "          const docLink = document.createElement('div');\n",
              "          docLink.innerHTML = docLinkHtml;\n",
              "          element.appendChild(docLink);\n",
              "        }\n",
              "      </script>\n",
              "    </div>\n",
              "  </div>\n",
              "  "
            ]
          },
          "metadata": {},
          "execution_count": 10
        }
      ]
    },
    {
      "cell_type": "markdown",
      "metadata": {
        "id": "fHvxke9XcAVI"
      },
      "source": [
        "You've made some progress! But with new progress comes new issues. For one, the row indices of your DataFrame contain the names of the boroughs. You should never have a piece of information you want to analyze as an index, this information should be within the DataFrame itself. The indices should just be a unique ID, almost always a number.\n",
        "\n",
        "Those names are perhaps the most important piece of information! Put them where you can work with them."
      ]
    },
    {
      "cell_type": "code",
      "metadata": {
        "id": "HdouAxnTcAVJ",
        "colab": {
          "base_uri": "https://localhost:8080/"
        },
        "outputId": "8de1dbab-2a99-483b-9125-284974768838"
      },
      "source": [
        "# To confirm what our row indices are, let's call the .index variable on our properties_T DataFrame.\n",
        "properties_T.index"
      ],
      "execution_count": 11,
      "outputs": [
        {
          "output_type": "execute_result",
          "data": {
            "text/plain": [
              "RangeIndex(start=0, stop=340, step=1)"
            ]
          },
          "metadata": {},
          "execution_count": 11
        }
      ]
    },
    {
      "cell_type": "code",
      "metadata": {
        "id": "aao6yKGFcAVL"
      },
      "source": [
        "# Our suspicion was correct.\n",
        "# Call the .reset_index() method on properties_T to reset the indices, and the reassign the result to properties_T:\n",
        "properties_T = properties_T.reset_index()"
      ],
      "execution_count": 12,
      "outputs": []
    },
    {
      "cell_type": "code",
      "metadata": {
        "id": "tGj6YX1VcAVN",
        "colab": {
          "base_uri": "https://localhost:8080/",
          "height": 404
        },
        "outputId": "46959e30-c9c9-451d-cde4-c781d7ee7182"
      },
      "source": [
        "# Now let's check out our DataFrames indices:\n",
        "properties_T.head()"
      ],
      "execution_count": 13,
      "outputs": [
        {
          "output_type": "execute_result",
          "data": {
            "text/plain": [
              "   index Unnamed: 0 City of London Barking & Dagenham       Barnet  \\\n",
              "0      0        NaT      E09000001          E09000002    E09000003   \n",
              "1      1 1995-01-01    91448.98487         50460.2266  93284.51832   \n",
              "2      2 1995-02-01    82202.77314        51085.77983  93190.16963   \n",
              "3      3 1995-03-01    79120.70256        51268.96956  92247.52435   \n",
              "4      4 1995-04-01    77101.20804        53133.50526  90762.87492   \n",
              "\n",
              "        Bexley        Brent      Bromley       Camden      Croydon  ...  \\\n",
              "0    E09000004    E09000005    E09000006    E09000007    E09000008  ...   \n",
              "1  64958.09036  71306.56698  81671.47692  120932.8881  69158.16225  ...   \n",
              "2  64787.92069  72022.26197  81657.55944  119508.8622  68951.09542  ...   \n",
              "3  64367.49344  72015.76274  81449.31143  120282.2131  68712.44341  ...   \n",
              "4  64277.66881  72965.63094  81124.41227   120097.899  68610.04641  ...   \n",
              "\n",
              "    NORTH WEST YORKS & THE HUMBER EAST MIDLANDS WEST MIDLANDS EAST OF ENGLAND  \\\n",
              "0    E12000002          E12000003     E12000004     E12000005       E12000006   \n",
              "1  43958.48001        44803.42878   45544.52227   48527.52339      56701.5961   \n",
              "2  43925.42289        44528.80721   46051.57066   49341.29029     56593.59475   \n",
              "3   44434.8681        45200.46775   45383.82395   49442.17973     56171.18278   \n",
              "4   44267.7796        45614.34341   46124.23045   49455.93299     56567.89582   \n",
              "\n",
              "        LONDON   SOUTH EAST   SOUTH WEST Unnamed: 47      England  \n",
              "0    E12000007    E12000008    E12000009         NaN    E92000001  \n",
              "1  74435.76052  64018.87894   54705.1579         NaN  53202.77128  \n",
              "2  72777.93709  63715.02399  54356.14843         NaN   53096.1549  \n",
              "3  73896.84204  64113.60858  53583.07667         NaN   53201.2843  \n",
              "4  74455.28754  64623.22395  54786.01938         NaN   53590.8548  \n",
              "\n",
              "[5 rows x 50 columns]"
            ],
            "text/html": [
              "\n",
              "  <div id=\"df-db535b89-20e8-46cb-b7e0-f8baa8463730\">\n",
              "    <div class=\"colab-df-container\">\n",
              "      <div>\n",
              "<style scoped>\n",
              "    .dataframe tbody tr th:only-of-type {\n",
              "        vertical-align: middle;\n",
              "    }\n",
              "\n",
              "    .dataframe tbody tr th {\n",
              "        vertical-align: top;\n",
              "    }\n",
              "\n",
              "    .dataframe thead th {\n",
              "        text-align: right;\n",
              "    }\n",
              "</style>\n",
              "<table border=\"1\" class=\"dataframe\">\n",
              "  <thead>\n",
              "    <tr style=\"text-align: right;\">\n",
              "      <th></th>\n",
              "      <th>index</th>\n",
              "      <th>Unnamed: 0</th>\n",
              "      <th>City of London</th>\n",
              "      <th>Barking &amp; Dagenham</th>\n",
              "      <th>Barnet</th>\n",
              "      <th>Bexley</th>\n",
              "      <th>Brent</th>\n",
              "      <th>Bromley</th>\n",
              "      <th>Camden</th>\n",
              "      <th>Croydon</th>\n",
              "      <th>...</th>\n",
              "      <th>NORTH WEST</th>\n",
              "      <th>YORKS &amp; THE HUMBER</th>\n",
              "      <th>EAST MIDLANDS</th>\n",
              "      <th>WEST MIDLANDS</th>\n",
              "      <th>EAST OF ENGLAND</th>\n",
              "      <th>LONDON</th>\n",
              "      <th>SOUTH EAST</th>\n",
              "      <th>SOUTH WEST</th>\n",
              "      <th>Unnamed: 47</th>\n",
              "      <th>England</th>\n",
              "    </tr>\n",
              "  </thead>\n",
              "  <tbody>\n",
              "    <tr>\n",
              "      <th>0</th>\n",
              "      <td>0</td>\n",
              "      <td>NaT</td>\n",
              "      <td>E09000001</td>\n",
              "      <td>E09000002</td>\n",
              "      <td>E09000003</td>\n",
              "      <td>E09000004</td>\n",
              "      <td>E09000005</td>\n",
              "      <td>E09000006</td>\n",
              "      <td>E09000007</td>\n",
              "      <td>E09000008</td>\n",
              "      <td>...</td>\n",
              "      <td>E12000002</td>\n",
              "      <td>E12000003</td>\n",
              "      <td>E12000004</td>\n",
              "      <td>E12000005</td>\n",
              "      <td>E12000006</td>\n",
              "      <td>E12000007</td>\n",
              "      <td>E12000008</td>\n",
              "      <td>E12000009</td>\n",
              "      <td>NaN</td>\n",
              "      <td>E92000001</td>\n",
              "    </tr>\n",
              "    <tr>\n",
              "      <th>1</th>\n",
              "      <td>1</td>\n",
              "      <td>1995-01-01</td>\n",
              "      <td>91448.98487</td>\n",
              "      <td>50460.2266</td>\n",
              "      <td>93284.51832</td>\n",
              "      <td>64958.09036</td>\n",
              "      <td>71306.56698</td>\n",
              "      <td>81671.47692</td>\n",
              "      <td>120932.8881</td>\n",
              "      <td>69158.16225</td>\n",
              "      <td>...</td>\n",
              "      <td>43958.48001</td>\n",
              "      <td>44803.42878</td>\n",
              "      <td>45544.52227</td>\n",
              "      <td>48527.52339</td>\n",
              "      <td>56701.5961</td>\n",
              "      <td>74435.76052</td>\n",
              "      <td>64018.87894</td>\n",
              "      <td>54705.1579</td>\n",
              "      <td>NaN</td>\n",
              "      <td>53202.77128</td>\n",
              "    </tr>\n",
              "    <tr>\n",
              "      <th>2</th>\n",
              "      <td>2</td>\n",
              "      <td>1995-02-01</td>\n",
              "      <td>82202.77314</td>\n",
              "      <td>51085.77983</td>\n",
              "      <td>93190.16963</td>\n",
              "      <td>64787.92069</td>\n",
              "      <td>72022.26197</td>\n",
              "      <td>81657.55944</td>\n",
              "      <td>119508.8622</td>\n",
              "      <td>68951.09542</td>\n",
              "      <td>...</td>\n",
              "      <td>43925.42289</td>\n",
              "      <td>44528.80721</td>\n",
              "      <td>46051.57066</td>\n",
              "      <td>49341.29029</td>\n",
              "      <td>56593.59475</td>\n",
              "      <td>72777.93709</td>\n",
              "      <td>63715.02399</td>\n",
              "      <td>54356.14843</td>\n",
              "      <td>NaN</td>\n",
              "      <td>53096.1549</td>\n",
              "    </tr>\n",
              "    <tr>\n",
              "      <th>3</th>\n",
              "      <td>3</td>\n",
              "      <td>1995-03-01</td>\n",
              "      <td>79120.70256</td>\n",
              "      <td>51268.96956</td>\n",
              "      <td>92247.52435</td>\n",
              "      <td>64367.49344</td>\n",
              "      <td>72015.76274</td>\n",
              "      <td>81449.31143</td>\n",
              "      <td>120282.2131</td>\n",
              "      <td>68712.44341</td>\n",
              "      <td>...</td>\n",
              "      <td>44434.8681</td>\n",
              "      <td>45200.46775</td>\n",
              "      <td>45383.82395</td>\n",
              "      <td>49442.17973</td>\n",
              "      <td>56171.18278</td>\n",
              "      <td>73896.84204</td>\n",
              "      <td>64113.60858</td>\n",
              "      <td>53583.07667</td>\n",
              "      <td>NaN</td>\n",
              "      <td>53201.2843</td>\n",
              "    </tr>\n",
              "    <tr>\n",
              "      <th>4</th>\n",
              "      <td>4</td>\n",
              "      <td>1995-04-01</td>\n",
              "      <td>77101.20804</td>\n",
              "      <td>53133.50526</td>\n",
              "      <td>90762.87492</td>\n",
              "      <td>64277.66881</td>\n",
              "      <td>72965.63094</td>\n",
              "      <td>81124.41227</td>\n",
              "      <td>120097.899</td>\n",
              "      <td>68610.04641</td>\n",
              "      <td>...</td>\n",
              "      <td>44267.7796</td>\n",
              "      <td>45614.34341</td>\n",
              "      <td>46124.23045</td>\n",
              "      <td>49455.93299</td>\n",
              "      <td>56567.89582</td>\n",
              "      <td>74455.28754</td>\n",
              "      <td>64623.22395</td>\n",
              "      <td>54786.01938</td>\n",
              "      <td>NaN</td>\n",
              "      <td>53590.8548</td>\n",
              "    </tr>\n",
              "  </tbody>\n",
              "</table>\n",
              "<p>5 rows × 50 columns</p>\n",
              "</div>\n",
              "      <button class=\"colab-df-convert\" onclick=\"convertToInteractive('df-db535b89-20e8-46cb-b7e0-f8baa8463730')\"\n",
              "              title=\"Convert this dataframe to an interactive table.\"\n",
              "              style=\"display:none;\">\n",
              "        \n",
              "  <svg xmlns=\"http://www.w3.org/2000/svg\" height=\"24px\"viewBox=\"0 0 24 24\"\n",
              "       width=\"24px\">\n",
              "    <path d=\"M0 0h24v24H0V0z\" fill=\"none\"/>\n",
              "    <path d=\"M18.56 5.44l.94 2.06.94-2.06 2.06-.94-2.06-.94-.94-2.06-.94 2.06-2.06.94zm-11 1L8.5 8.5l.94-2.06 2.06-.94-2.06-.94L8.5 2.5l-.94 2.06-2.06.94zm10 10l.94 2.06.94-2.06 2.06-.94-2.06-.94-.94-2.06-.94 2.06-2.06.94z\"/><path d=\"M17.41 7.96l-1.37-1.37c-.4-.4-.92-.59-1.43-.59-.52 0-1.04.2-1.43.59L10.3 9.45l-7.72 7.72c-.78.78-.78 2.05 0 2.83L4 21.41c.39.39.9.59 1.41.59.51 0 1.02-.2 1.41-.59l7.78-7.78 2.81-2.81c.8-.78.8-2.07 0-2.86zM5.41 20L4 18.59l7.72-7.72 1.47 1.35L5.41 20z\"/>\n",
              "  </svg>\n",
              "      </button>\n",
              "      \n",
              "  <style>\n",
              "    .colab-df-container {\n",
              "      display:flex;\n",
              "      flex-wrap:wrap;\n",
              "      gap: 12px;\n",
              "    }\n",
              "\n",
              "    .colab-df-convert {\n",
              "      background-color: #E8F0FE;\n",
              "      border: none;\n",
              "      border-radius: 50%;\n",
              "      cursor: pointer;\n",
              "      display: none;\n",
              "      fill: #1967D2;\n",
              "      height: 32px;\n",
              "      padding: 0 0 0 0;\n",
              "      width: 32px;\n",
              "    }\n",
              "\n",
              "    .colab-df-convert:hover {\n",
              "      background-color: #E2EBFA;\n",
              "      box-shadow: 0px 1px 2px rgba(60, 64, 67, 0.3), 0px 1px 3px 1px rgba(60, 64, 67, 0.15);\n",
              "      fill: #174EA6;\n",
              "    }\n",
              "\n",
              "    [theme=dark] .colab-df-convert {\n",
              "      background-color: #3B4455;\n",
              "      fill: #D2E3FC;\n",
              "    }\n",
              "\n",
              "    [theme=dark] .colab-df-convert:hover {\n",
              "      background-color: #434B5C;\n",
              "      box-shadow: 0px 1px 3px 1px rgba(0, 0, 0, 0.15);\n",
              "      filter: drop-shadow(0px 1px 2px rgba(0, 0, 0, 0.3));\n",
              "      fill: #FFFFFF;\n",
              "    }\n",
              "  </style>\n",
              "\n",
              "      <script>\n",
              "        const buttonEl =\n",
              "          document.querySelector('#df-db535b89-20e8-46cb-b7e0-f8baa8463730 button.colab-df-convert');\n",
              "        buttonEl.style.display =\n",
              "          google.colab.kernel.accessAllowed ? 'block' : 'none';\n",
              "\n",
              "        async function convertToInteractive(key) {\n",
              "          const element = document.querySelector('#df-db535b89-20e8-46cb-b7e0-f8baa8463730');\n",
              "          const dataTable =\n",
              "            await google.colab.kernel.invokeFunction('convertToInteractive',\n",
              "                                                     [key], {});\n",
              "          if (!dataTable) return;\n",
              "\n",
              "          const docLinkHtml = 'Like what you see? Visit the ' +\n",
              "            '<a target=\"_blank\" href=https://colab.research.google.com/notebooks/data_table.ipynb>data table notebook</a>'\n",
              "            + ' to learn more about interactive tables.';\n",
              "          element.innerHTML = '';\n",
              "          dataTable['output_type'] = 'display_data';\n",
              "          await google.colab.output.renderOutput(dataTable, element);\n",
              "          const docLink = document.createElement('div');\n",
              "          docLink.innerHTML = docLinkHtml;\n",
              "          element.appendChild(docLink);\n",
              "        }\n",
              "      </script>\n",
              "    </div>\n",
              "  </div>\n",
              "  "
            ]
          },
          "metadata": {},
          "execution_count": 13
        }
      ]
    },
    {
      "cell_type": "markdown",
      "metadata": {
        "id": "UZO2SqYTcAVP"
      },
      "source": [
        "\n",
        "Progress!\n",
        "\n",
        "The indicies are now a numerical RangeIndex, exactly what you want.\n",
        "\n",
        "**Note**: if you call the reset_index() line more than once, you'll get an error because a whole extra level of row indices will have been inserted! If you do this, don't worry. Just hit Kernel > Restart, then run all the cells up to here to get back to where you were.\n"
      ]
    },
    {
      "cell_type": "code",
      "metadata": {
        "id": "-q99HGLscAVP",
        "colab": {
          "base_uri": "https://localhost:8080/",
          "height": 404
        },
        "outputId": "3dd055f6-096d-4678-bc6b-1929069ca71b"
      },
      "source": [
        "# Call the head() function again on properties_T to check out the new row indices:\n",
        "properties_T.head()"
      ],
      "execution_count": 14,
      "outputs": [
        {
          "output_type": "execute_result",
          "data": {
            "text/plain": [
              "   index Unnamed: 0 City of London Barking & Dagenham       Barnet  \\\n",
              "0      0        NaT      E09000001          E09000002    E09000003   \n",
              "1      1 1995-01-01    91448.98487         50460.2266  93284.51832   \n",
              "2      2 1995-02-01    82202.77314        51085.77983  93190.16963   \n",
              "3      3 1995-03-01    79120.70256        51268.96956  92247.52435   \n",
              "4      4 1995-04-01    77101.20804        53133.50526  90762.87492   \n",
              "\n",
              "        Bexley        Brent      Bromley       Camden      Croydon  ...  \\\n",
              "0    E09000004    E09000005    E09000006    E09000007    E09000008  ...   \n",
              "1  64958.09036  71306.56698  81671.47692  120932.8881  69158.16225  ...   \n",
              "2  64787.92069  72022.26197  81657.55944  119508.8622  68951.09542  ...   \n",
              "3  64367.49344  72015.76274  81449.31143  120282.2131  68712.44341  ...   \n",
              "4  64277.66881  72965.63094  81124.41227   120097.899  68610.04641  ...   \n",
              "\n",
              "    NORTH WEST YORKS & THE HUMBER EAST MIDLANDS WEST MIDLANDS EAST OF ENGLAND  \\\n",
              "0    E12000002          E12000003     E12000004     E12000005       E12000006   \n",
              "1  43958.48001        44803.42878   45544.52227   48527.52339      56701.5961   \n",
              "2  43925.42289        44528.80721   46051.57066   49341.29029     56593.59475   \n",
              "3   44434.8681        45200.46775   45383.82395   49442.17973     56171.18278   \n",
              "4   44267.7796        45614.34341   46124.23045   49455.93299     56567.89582   \n",
              "\n",
              "        LONDON   SOUTH EAST   SOUTH WEST Unnamed: 47      England  \n",
              "0    E12000007    E12000008    E12000009         NaN    E92000001  \n",
              "1  74435.76052  64018.87894   54705.1579         NaN  53202.77128  \n",
              "2  72777.93709  63715.02399  54356.14843         NaN   53096.1549  \n",
              "3  73896.84204  64113.60858  53583.07667         NaN   53201.2843  \n",
              "4  74455.28754  64623.22395  54786.01938         NaN   53590.8548  \n",
              "\n",
              "[5 rows x 50 columns]"
            ],
            "text/html": [
              "\n",
              "  <div id=\"df-e413dbb3-d6d9-4a02-b0a2-ada8bc4d8b90\">\n",
              "    <div class=\"colab-df-container\">\n",
              "      <div>\n",
              "<style scoped>\n",
              "    .dataframe tbody tr th:only-of-type {\n",
              "        vertical-align: middle;\n",
              "    }\n",
              "\n",
              "    .dataframe tbody tr th {\n",
              "        vertical-align: top;\n",
              "    }\n",
              "\n",
              "    .dataframe thead th {\n",
              "        text-align: right;\n",
              "    }\n",
              "</style>\n",
              "<table border=\"1\" class=\"dataframe\">\n",
              "  <thead>\n",
              "    <tr style=\"text-align: right;\">\n",
              "      <th></th>\n",
              "      <th>index</th>\n",
              "      <th>Unnamed: 0</th>\n",
              "      <th>City of London</th>\n",
              "      <th>Barking &amp; Dagenham</th>\n",
              "      <th>Barnet</th>\n",
              "      <th>Bexley</th>\n",
              "      <th>Brent</th>\n",
              "      <th>Bromley</th>\n",
              "      <th>Camden</th>\n",
              "      <th>Croydon</th>\n",
              "      <th>...</th>\n",
              "      <th>NORTH WEST</th>\n",
              "      <th>YORKS &amp; THE HUMBER</th>\n",
              "      <th>EAST MIDLANDS</th>\n",
              "      <th>WEST MIDLANDS</th>\n",
              "      <th>EAST OF ENGLAND</th>\n",
              "      <th>LONDON</th>\n",
              "      <th>SOUTH EAST</th>\n",
              "      <th>SOUTH WEST</th>\n",
              "      <th>Unnamed: 47</th>\n",
              "      <th>England</th>\n",
              "    </tr>\n",
              "  </thead>\n",
              "  <tbody>\n",
              "    <tr>\n",
              "      <th>0</th>\n",
              "      <td>0</td>\n",
              "      <td>NaT</td>\n",
              "      <td>E09000001</td>\n",
              "      <td>E09000002</td>\n",
              "      <td>E09000003</td>\n",
              "      <td>E09000004</td>\n",
              "      <td>E09000005</td>\n",
              "      <td>E09000006</td>\n",
              "      <td>E09000007</td>\n",
              "      <td>E09000008</td>\n",
              "      <td>...</td>\n",
              "      <td>E12000002</td>\n",
              "      <td>E12000003</td>\n",
              "      <td>E12000004</td>\n",
              "      <td>E12000005</td>\n",
              "      <td>E12000006</td>\n",
              "      <td>E12000007</td>\n",
              "      <td>E12000008</td>\n",
              "      <td>E12000009</td>\n",
              "      <td>NaN</td>\n",
              "      <td>E92000001</td>\n",
              "    </tr>\n",
              "    <tr>\n",
              "      <th>1</th>\n",
              "      <td>1</td>\n",
              "      <td>1995-01-01</td>\n",
              "      <td>91448.98487</td>\n",
              "      <td>50460.2266</td>\n",
              "      <td>93284.51832</td>\n",
              "      <td>64958.09036</td>\n",
              "      <td>71306.56698</td>\n",
              "      <td>81671.47692</td>\n",
              "      <td>120932.8881</td>\n",
              "      <td>69158.16225</td>\n",
              "      <td>...</td>\n",
              "      <td>43958.48001</td>\n",
              "      <td>44803.42878</td>\n",
              "      <td>45544.52227</td>\n",
              "      <td>48527.52339</td>\n",
              "      <td>56701.5961</td>\n",
              "      <td>74435.76052</td>\n",
              "      <td>64018.87894</td>\n",
              "      <td>54705.1579</td>\n",
              "      <td>NaN</td>\n",
              "      <td>53202.77128</td>\n",
              "    </tr>\n",
              "    <tr>\n",
              "      <th>2</th>\n",
              "      <td>2</td>\n",
              "      <td>1995-02-01</td>\n",
              "      <td>82202.77314</td>\n",
              "      <td>51085.77983</td>\n",
              "      <td>93190.16963</td>\n",
              "      <td>64787.92069</td>\n",
              "      <td>72022.26197</td>\n",
              "      <td>81657.55944</td>\n",
              "      <td>119508.8622</td>\n",
              "      <td>68951.09542</td>\n",
              "      <td>...</td>\n",
              "      <td>43925.42289</td>\n",
              "      <td>44528.80721</td>\n",
              "      <td>46051.57066</td>\n",
              "      <td>49341.29029</td>\n",
              "      <td>56593.59475</td>\n",
              "      <td>72777.93709</td>\n",
              "      <td>63715.02399</td>\n",
              "      <td>54356.14843</td>\n",
              "      <td>NaN</td>\n",
              "      <td>53096.1549</td>\n",
              "    </tr>\n",
              "    <tr>\n",
              "      <th>3</th>\n",
              "      <td>3</td>\n",
              "      <td>1995-03-01</td>\n",
              "      <td>79120.70256</td>\n",
              "      <td>51268.96956</td>\n",
              "      <td>92247.52435</td>\n",
              "      <td>64367.49344</td>\n",
              "      <td>72015.76274</td>\n",
              "      <td>81449.31143</td>\n",
              "      <td>120282.2131</td>\n",
              "      <td>68712.44341</td>\n",
              "      <td>...</td>\n",
              "      <td>44434.8681</td>\n",
              "      <td>45200.46775</td>\n",
              "      <td>45383.82395</td>\n",
              "      <td>49442.17973</td>\n",
              "      <td>56171.18278</td>\n",
              "      <td>73896.84204</td>\n",
              "      <td>64113.60858</td>\n",
              "      <td>53583.07667</td>\n",
              "      <td>NaN</td>\n",
              "      <td>53201.2843</td>\n",
              "    </tr>\n",
              "    <tr>\n",
              "      <th>4</th>\n",
              "      <td>4</td>\n",
              "      <td>1995-04-01</td>\n",
              "      <td>77101.20804</td>\n",
              "      <td>53133.50526</td>\n",
              "      <td>90762.87492</td>\n",
              "      <td>64277.66881</td>\n",
              "      <td>72965.63094</td>\n",
              "      <td>81124.41227</td>\n",
              "      <td>120097.899</td>\n",
              "      <td>68610.04641</td>\n",
              "      <td>...</td>\n",
              "      <td>44267.7796</td>\n",
              "      <td>45614.34341</td>\n",
              "      <td>46124.23045</td>\n",
              "      <td>49455.93299</td>\n",
              "      <td>56567.89582</td>\n",
              "      <td>74455.28754</td>\n",
              "      <td>64623.22395</td>\n",
              "      <td>54786.01938</td>\n",
              "      <td>NaN</td>\n",
              "      <td>53590.8548</td>\n",
              "    </tr>\n",
              "  </tbody>\n",
              "</table>\n",
              "<p>5 rows × 50 columns</p>\n",
              "</div>\n",
              "      <button class=\"colab-df-convert\" onclick=\"convertToInteractive('df-e413dbb3-d6d9-4a02-b0a2-ada8bc4d8b90')\"\n",
              "              title=\"Convert this dataframe to an interactive table.\"\n",
              "              style=\"display:none;\">\n",
              "        \n",
              "  <svg xmlns=\"http://www.w3.org/2000/svg\" height=\"24px\"viewBox=\"0 0 24 24\"\n",
              "       width=\"24px\">\n",
              "    <path d=\"M0 0h24v24H0V0z\" fill=\"none\"/>\n",
              "    <path d=\"M18.56 5.44l.94 2.06.94-2.06 2.06-.94-2.06-.94-.94-2.06-.94 2.06-2.06.94zm-11 1L8.5 8.5l.94-2.06 2.06-.94-2.06-.94L8.5 2.5l-.94 2.06-2.06.94zm10 10l.94 2.06.94-2.06 2.06-.94-2.06-.94-.94-2.06-.94 2.06-2.06.94z\"/><path d=\"M17.41 7.96l-1.37-1.37c-.4-.4-.92-.59-1.43-.59-.52 0-1.04.2-1.43.59L10.3 9.45l-7.72 7.72c-.78.78-.78 2.05 0 2.83L4 21.41c.39.39.9.59 1.41.59.51 0 1.02-.2 1.41-.59l7.78-7.78 2.81-2.81c.8-.78.8-2.07 0-2.86zM5.41 20L4 18.59l7.72-7.72 1.47 1.35L5.41 20z\"/>\n",
              "  </svg>\n",
              "      </button>\n",
              "      \n",
              "  <style>\n",
              "    .colab-df-container {\n",
              "      display:flex;\n",
              "      flex-wrap:wrap;\n",
              "      gap: 12px;\n",
              "    }\n",
              "\n",
              "    .colab-df-convert {\n",
              "      background-color: #E8F0FE;\n",
              "      border: none;\n",
              "      border-radius: 50%;\n",
              "      cursor: pointer;\n",
              "      display: none;\n",
              "      fill: #1967D2;\n",
              "      height: 32px;\n",
              "      padding: 0 0 0 0;\n",
              "      width: 32px;\n",
              "    }\n",
              "\n",
              "    .colab-df-convert:hover {\n",
              "      background-color: #E2EBFA;\n",
              "      box-shadow: 0px 1px 2px rgba(60, 64, 67, 0.3), 0px 1px 3px 1px rgba(60, 64, 67, 0.15);\n",
              "      fill: #174EA6;\n",
              "    }\n",
              "\n",
              "    [theme=dark] .colab-df-convert {\n",
              "      background-color: #3B4455;\n",
              "      fill: #D2E3FC;\n",
              "    }\n",
              "\n",
              "    [theme=dark] .colab-df-convert:hover {\n",
              "      background-color: #434B5C;\n",
              "      box-shadow: 0px 1px 3px 1px rgba(0, 0, 0, 0.15);\n",
              "      filter: drop-shadow(0px 1px 2px rgba(0, 0, 0, 0.3));\n",
              "      fill: #FFFFFF;\n",
              "    }\n",
              "  </style>\n",
              "\n",
              "      <script>\n",
              "        const buttonEl =\n",
              "          document.querySelector('#df-e413dbb3-d6d9-4a02-b0a2-ada8bc4d8b90 button.colab-df-convert');\n",
              "        buttonEl.style.display =\n",
              "          google.colab.kernel.accessAllowed ? 'block' : 'none';\n",
              "\n",
              "        async function convertToInteractive(key) {\n",
              "          const element = document.querySelector('#df-e413dbb3-d6d9-4a02-b0a2-ada8bc4d8b90');\n",
              "          const dataTable =\n",
              "            await google.colab.kernel.invokeFunction('convertToInteractive',\n",
              "                                                     [key], {});\n",
              "          if (!dataTable) return;\n",
              "\n",
              "          const docLinkHtml = 'Like what you see? Visit the ' +\n",
              "            '<a target=\"_blank\" href=https://colab.research.google.com/notebooks/data_table.ipynb>data table notebook</a>'\n",
              "            + ' to learn more about interactive tables.';\n",
              "          element.innerHTML = '';\n",
              "          dataTable['output_type'] = 'display_data';\n",
              "          await google.colab.output.renderOutput(dataTable, element);\n",
              "          const docLink = document.createElement('div');\n",
              "          docLink.innerHTML = docLinkHtml;\n",
              "          element.appendChild(docLink);\n",
              "        }\n",
              "      </script>\n",
              "    </div>\n",
              "  </div>\n",
              "  "
            ]
          },
          "metadata": {},
          "execution_count": 14
        }
      ]
    },
    {
      "cell_type": "markdown",
      "metadata": {
        "id": "BaW90dtbcAVR"
      },
      "source": [
        "You're getting somewhere, but our column headings are mainly just integers. The first one is the string 'index' and the rest are integers ranging from 0 to 296, inclusive.\n",
        "\n",
        "\n",
        "For the ultimate aim of having a *tidy* DataFrame, turn the datetimes found along the first row (at index 0) into the column headings.  The resulting DataFrame will have boroughs as rows, the columns as dates (each representing a particular month), and the cell-values as the average property value sold in that borough for that month."
      ]
    },
    {
      "cell_type": "code",
      "metadata": {
        "id": "hvdvy-8rcAVR",
        "colab": {
          "base_uri": "https://localhost:8080/"
        },
        "outputId": "33bdcd71-2ba2-4c28-c3d1-fa4b10d4fe03"
      },
      "source": [
        "# To confirm that our DataFrame's columns are mainly just integers, call the .columns feature on our DataFrame:\n",
        "properties_T.columns"
      ],
      "execution_count": 15,
      "outputs": [
        {
          "output_type": "execute_result",
          "data": {
            "text/plain": [
              "Index(['index', 'Unnamed: 0', 'City of London', 'Barking & Dagenham', 'Barnet',\n",
              "       'Bexley', 'Brent', 'Bromley', 'Camden', 'Croydon', 'Ealing', 'Enfield',\n",
              "       'Greenwich', 'Hackney', 'Hammersmith & Fulham', 'Haringey', 'Harrow',\n",
              "       'Havering', 'Hillingdon', 'Hounslow', 'Islington',\n",
              "       'Kensington & Chelsea', 'Kingston upon Thames', 'Lambeth', 'Lewisham',\n",
              "       'Merton', 'Newham', 'Redbridge', 'Richmond upon Thames', 'Southwark',\n",
              "       'Sutton', 'Tower Hamlets', 'Waltham Forest', 'Wandsworth',\n",
              "       'Westminster', 'Unnamed: 34', 'Inner London', 'Outer London',\n",
              "       'Unnamed: 37', 'NORTH EAST', 'NORTH WEST', 'YORKS & THE HUMBER',\n",
              "       'EAST MIDLANDS', 'WEST MIDLANDS', 'EAST OF ENGLAND', 'LONDON',\n",
              "       'SOUTH EAST', 'SOUTH WEST', 'Unnamed: 47', 'England'],\n",
              "      dtype='object')"
            ]
          },
          "metadata": {},
          "execution_count": 15
        }
      ]
    },
    {
      "cell_type": "markdown",
      "metadata": {
        "id": "C_-aS8tncAVT"
      },
      "source": [
        "To confirm that the first row contains the proper values for column headings, use the  ***iloc[] method*** on our *properties_T* DataFrame. Use index 0. You'll recall from DataCamp that if you use single square brackets, you'll return a series. If you use double square brackets, a DataFrame is returned."
      ]
    },
    {
      "cell_type": "code",
      "metadata": {
        "id": "6xWcjc1qcAVU",
        "colab": {
          "base_uri": "https://localhost:8080/",
          "height": 177
        },
        "outputId": "63177d64-63f3-461c-a4da-bfb292782d0a"
      },
      "source": [
        "# Call the iloc[] method with double square brackets on the properties_T DataFrame, to see the row at index 0.\n",
        "properties_T.iloc[[]]"
      ],
      "execution_count": 16,
      "outputs": [
        {
          "output_type": "execute_result",
          "data": {
            "text/plain": [
              "Empty DataFrame\n",
              "Columns: [index, Unnamed: 0, City of London, Barking & Dagenham, Barnet, Bexley, Brent, Bromley, Camden, Croydon, Ealing, Enfield, Greenwich, Hackney, Hammersmith & Fulham, Haringey, Harrow, Havering, Hillingdon, Hounslow, Islington, Kensington & Chelsea, Kingston upon Thames, Lambeth, Lewisham, Merton, Newham, Redbridge, Richmond upon Thames, Southwark, Sutton, Tower Hamlets, Waltham Forest, Wandsworth, Westminster, Unnamed: 34, Inner London, Outer London, Unnamed: 37, NORTH EAST, NORTH WEST, YORKS & THE HUMBER, EAST MIDLANDS, WEST MIDLANDS, EAST OF ENGLAND, LONDON, SOUTH EAST, SOUTH WEST, Unnamed: 47, England]\n",
              "Index: []\n",
              "\n",
              "[0 rows x 50 columns]"
            ],
            "text/html": [
              "\n",
              "  <div id=\"df-a1083235-bf0a-425a-85bf-d6911b187af7\">\n",
              "    <div class=\"colab-df-container\">\n",
              "      <div>\n",
              "<style scoped>\n",
              "    .dataframe tbody tr th:only-of-type {\n",
              "        vertical-align: middle;\n",
              "    }\n",
              "\n",
              "    .dataframe tbody tr th {\n",
              "        vertical-align: top;\n",
              "    }\n",
              "\n",
              "    .dataframe thead th {\n",
              "        text-align: right;\n",
              "    }\n",
              "</style>\n",
              "<table border=\"1\" class=\"dataframe\">\n",
              "  <thead>\n",
              "    <tr style=\"text-align: right;\">\n",
              "      <th></th>\n",
              "      <th>index</th>\n",
              "      <th>Unnamed: 0</th>\n",
              "      <th>City of London</th>\n",
              "      <th>Barking &amp; Dagenham</th>\n",
              "      <th>Barnet</th>\n",
              "      <th>Bexley</th>\n",
              "      <th>Brent</th>\n",
              "      <th>Bromley</th>\n",
              "      <th>Camden</th>\n",
              "      <th>Croydon</th>\n",
              "      <th>...</th>\n",
              "      <th>NORTH WEST</th>\n",
              "      <th>YORKS &amp; THE HUMBER</th>\n",
              "      <th>EAST MIDLANDS</th>\n",
              "      <th>WEST MIDLANDS</th>\n",
              "      <th>EAST OF ENGLAND</th>\n",
              "      <th>LONDON</th>\n",
              "      <th>SOUTH EAST</th>\n",
              "      <th>SOUTH WEST</th>\n",
              "      <th>Unnamed: 47</th>\n",
              "      <th>England</th>\n",
              "    </tr>\n",
              "  </thead>\n",
              "  <tbody>\n",
              "  </tbody>\n",
              "</table>\n",
              "<p>0 rows × 50 columns</p>\n",
              "</div>\n",
              "      <button class=\"colab-df-convert\" onclick=\"convertToInteractive('df-a1083235-bf0a-425a-85bf-d6911b187af7')\"\n",
              "              title=\"Convert this dataframe to an interactive table.\"\n",
              "              style=\"display:none;\">\n",
              "        \n",
              "  <svg xmlns=\"http://www.w3.org/2000/svg\" height=\"24px\"viewBox=\"0 0 24 24\"\n",
              "       width=\"24px\">\n",
              "    <path d=\"M0 0h24v24H0V0z\" fill=\"none\"/>\n",
              "    <path d=\"M18.56 5.44l.94 2.06.94-2.06 2.06-.94-2.06-.94-.94-2.06-.94 2.06-2.06.94zm-11 1L8.5 8.5l.94-2.06 2.06-.94-2.06-.94L8.5 2.5l-.94 2.06-2.06.94zm10 10l.94 2.06.94-2.06 2.06-.94-2.06-.94-.94-2.06-.94 2.06-2.06.94z\"/><path d=\"M17.41 7.96l-1.37-1.37c-.4-.4-.92-.59-1.43-.59-.52 0-1.04.2-1.43.59L10.3 9.45l-7.72 7.72c-.78.78-.78 2.05 0 2.83L4 21.41c.39.39.9.59 1.41.59.51 0 1.02-.2 1.41-.59l7.78-7.78 2.81-2.81c.8-.78.8-2.07 0-2.86zM5.41 20L4 18.59l7.72-7.72 1.47 1.35L5.41 20z\"/>\n",
              "  </svg>\n",
              "      </button>\n",
              "      \n",
              "  <style>\n",
              "    .colab-df-container {\n",
              "      display:flex;\n",
              "      flex-wrap:wrap;\n",
              "      gap: 12px;\n",
              "    }\n",
              "\n",
              "    .colab-df-convert {\n",
              "      background-color: #E8F0FE;\n",
              "      border: none;\n",
              "      border-radius: 50%;\n",
              "      cursor: pointer;\n",
              "      display: none;\n",
              "      fill: #1967D2;\n",
              "      height: 32px;\n",
              "      padding: 0 0 0 0;\n",
              "      width: 32px;\n",
              "    }\n",
              "\n",
              "    .colab-df-convert:hover {\n",
              "      background-color: #E2EBFA;\n",
              "      box-shadow: 0px 1px 2px rgba(60, 64, 67, 0.3), 0px 1px 3px 1px rgba(60, 64, 67, 0.15);\n",
              "      fill: #174EA6;\n",
              "    }\n",
              "\n",
              "    [theme=dark] .colab-df-convert {\n",
              "      background-color: #3B4455;\n",
              "      fill: #D2E3FC;\n",
              "    }\n",
              "\n",
              "    [theme=dark] .colab-df-convert:hover {\n",
              "      background-color: #434B5C;\n",
              "      box-shadow: 0px 1px 3px 1px rgba(0, 0, 0, 0.15);\n",
              "      filter: drop-shadow(0px 1px 2px rgba(0, 0, 0, 0.3));\n",
              "      fill: #FFFFFF;\n",
              "    }\n",
              "  </style>\n",
              "\n",
              "      <script>\n",
              "        const buttonEl =\n",
              "          document.querySelector('#df-a1083235-bf0a-425a-85bf-d6911b187af7 button.colab-df-convert');\n",
              "        buttonEl.style.display =\n",
              "          google.colab.kernel.accessAllowed ? 'block' : 'none';\n",
              "\n",
              "        async function convertToInteractive(key) {\n",
              "          const element = document.querySelector('#df-a1083235-bf0a-425a-85bf-d6911b187af7');\n",
              "          const dataTable =\n",
              "            await google.colab.kernel.invokeFunction('convertToInteractive',\n",
              "                                                     [key], {});\n",
              "          if (!dataTable) return;\n",
              "\n",
              "          const docLinkHtml = 'Like what you see? Visit the ' +\n",
              "            '<a target=\"_blank\" href=https://colab.research.google.com/notebooks/data_table.ipynb>data table notebook</a>'\n",
              "            + ' to learn more about interactive tables.';\n",
              "          element.innerHTML = '';\n",
              "          dataTable['output_type'] = 'display_data';\n",
              "          await google.colab.output.renderOutput(dataTable, element);\n",
              "          const docLink = document.createElement('div');\n",
              "          docLink.innerHTML = docLinkHtml;\n",
              "          element.appendChild(docLink);\n",
              "        }\n",
              "      </script>\n",
              "    </div>\n",
              "  </div>\n",
              "  "
            ]
          },
          "metadata": {},
          "execution_count": 16
        }
      ]
    },
    {
      "cell_type": "markdown",
      "metadata": {
        "id": "szi9ZHrHcAVW"
      },
      "source": [
        "**Notice that these values are all the months from January 1995 to August 2019, inclusive**. You can reassign the columns of your DataFrame the values in the row at index 0 by making use of the *.columns* feature."
      ]
    },
    {
      "cell_type": "code",
      "metadata": {
        "id": "ioW2FRhKcAVW"
      },
      "source": [
        "# Try this now.\n",
        "properties_T.columns = properties_T.iloc[0]"
      ],
      "execution_count": 18,
      "outputs": []
    },
    {
      "cell_type": "code",
      "metadata": {
        "id": "OBHmvVH_cAVa",
        "colab": {
          "base_uri": "https://localhost:8080/",
          "height": 369
        },
        "outputId": "59f9fa1c-4f71-4216-e41d-5a81f0c59e00"
      },
      "source": [
        "# Check out our DataFrame again:\n",
        "properties_T.head()"
      ],
      "execution_count": 19,
      "outputs": [
        {
          "output_type": "execute_result",
          "data": {
            "text/plain": [
              "0  0        NaT    E09000001    E09000002    E09000003    E09000004  \\\n",
              "0  0        NaT    E09000001    E09000002    E09000003    E09000004   \n",
              "1  1 1995-01-01  91448.98487   50460.2266  93284.51832  64958.09036   \n",
              "2  2 1995-02-01  82202.77314  51085.77983  93190.16963  64787.92069   \n",
              "3  3 1995-03-01  79120.70256  51268.96956  92247.52435  64367.49344   \n",
              "4  4 1995-04-01  77101.20804  53133.50526  90762.87492  64277.66881   \n",
              "\n",
              "0    E09000005    E09000006    E09000007    E09000008  ...    E12000002  \\\n",
              "0    E09000005    E09000006    E09000007    E09000008  ...    E12000002   \n",
              "1  71306.56698  81671.47692  120932.8881  69158.16225  ...  43958.48001   \n",
              "2  72022.26197  81657.55944  119508.8622  68951.09542  ...  43925.42289   \n",
              "3  72015.76274  81449.31143  120282.2131  68712.44341  ...   44434.8681   \n",
              "4  72965.63094  81124.41227   120097.899  68610.04641  ...   44267.7796   \n",
              "\n",
              "0    E12000003    E12000004    E12000005    E12000006    E12000007  \\\n",
              "0    E12000003    E12000004    E12000005    E12000006    E12000007   \n",
              "1  44803.42878  45544.52227  48527.52339   56701.5961  74435.76052   \n",
              "2  44528.80721  46051.57066  49341.29029  56593.59475  72777.93709   \n",
              "3  45200.46775  45383.82395  49442.17973  56171.18278  73896.84204   \n",
              "4  45614.34341  46124.23045  49455.93299  56567.89582  74455.28754   \n",
              "\n",
              "0    E12000008    E12000009 NaN    E92000001  \n",
              "0    E12000008    E12000009 NaN    E92000001  \n",
              "1  64018.87894   54705.1579 NaN  53202.77128  \n",
              "2  63715.02399  54356.14843 NaN   53096.1549  \n",
              "3  64113.60858  53583.07667 NaN   53201.2843  \n",
              "4  64623.22395  54786.01938 NaN   53590.8548  \n",
              "\n",
              "[5 rows x 50 columns]"
            ],
            "text/html": [
              "\n",
              "  <div id=\"df-b88ecc17-b36d-4b71-8a9b-9f5ff16f4b71\">\n",
              "    <div class=\"colab-df-container\">\n",
              "      <div>\n",
              "<style scoped>\n",
              "    .dataframe tbody tr th:only-of-type {\n",
              "        vertical-align: middle;\n",
              "    }\n",
              "\n",
              "    .dataframe tbody tr th {\n",
              "        vertical-align: top;\n",
              "    }\n",
              "\n",
              "    .dataframe thead th {\n",
              "        text-align: right;\n",
              "    }\n",
              "</style>\n",
              "<table border=\"1\" class=\"dataframe\">\n",
              "  <thead>\n",
              "    <tr style=\"text-align: right;\">\n",
              "      <th></th>\n",
              "      <th>0</th>\n",
              "      <th>NaT</th>\n",
              "      <th>E09000001</th>\n",
              "      <th>E09000002</th>\n",
              "      <th>E09000003</th>\n",
              "      <th>E09000004</th>\n",
              "      <th>E09000005</th>\n",
              "      <th>E09000006</th>\n",
              "      <th>E09000007</th>\n",
              "      <th>E09000008</th>\n",
              "      <th>...</th>\n",
              "      <th>E12000002</th>\n",
              "      <th>E12000003</th>\n",
              "      <th>E12000004</th>\n",
              "      <th>E12000005</th>\n",
              "      <th>E12000006</th>\n",
              "      <th>E12000007</th>\n",
              "      <th>E12000008</th>\n",
              "      <th>E12000009</th>\n",
              "      <th>NaN</th>\n",
              "      <th>E92000001</th>\n",
              "    </tr>\n",
              "  </thead>\n",
              "  <tbody>\n",
              "    <tr>\n",
              "      <th>0</th>\n",
              "      <td>0</td>\n",
              "      <td>NaT</td>\n",
              "      <td>E09000001</td>\n",
              "      <td>E09000002</td>\n",
              "      <td>E09000003</td>\n",
              "      <td>E09000004</td>\n",
              "      <td>E09000005</td>\n",
              "      <td>E09000006</td>\n",
              "      <td>E09000007</td>\n",
              "      <td>E09000008</td>\n",
              "      <td>...</td>\n",
              "      <td>E12000002</td>\n",
              "      <td>E12000003</td>\n",
              "      <td>E12000004</td>\n",
              "      <td>E12000005</td>\n",
              "      <td>E12000006</td>\n",
              "      <td>E12000007</td>\n",
              "      <td>E12000008</td>\n",
              "      <td>E12000009</td>\n",
              "      <td>NaN</td>\n",
              "      <td>E92000001</td>\n",
              "    </tr>\n",
              "    <tr>\n",
              "      <th>1</th>\n",
              "      <td>1</td>\n",
              "      <td>1995-01-01</td>\n",
              "      <td>91448.98487</td>\n",
              "      <td>50460.2266</td>\n",
              "      <td>93284.51832</td>\n",
              "      <td>64958.09036</td>\n",
              "      <td>71306.56698</td>\n",
              "      <td>81671.47692</td>\n",
              "      <td>120932.8881</td>\n",
              "      <td>69158.16225</td>\n",
              "      <td>...</td>\n",
              "      <td>43958.48001</td>\n",
              "      <td>44803.42878</td>\n",
              "      <td>45544.52227</td>\n",
              "      <td>48527.52339</td>\n",
              "      <td>56701.5961</td>\n",
              "      <td>74435.76052</td>\n",
              "      <td>64018.87894</td>\n",
              "      <td>54705.1579</td>\n",
              "      <td>NaN</td>\n",
              "      <td>53202.77128</td>\n",
              "    </tr>\n",
              "    <tr>\n",
              "      <th>2</th>\n",
              "      <td>2</td>\n",
              "      <td>1995-02-01</td>\n",
              "      <td>82202.77314</td>\n",
              "      <td>51085.77983</td>\n",
              "      <td>93190.16963</td>\n",
              "      <td>64787.92069</td>\n",
              "      <td>72022.26197</td>\n",
              "      <td>81657.55944</td>\n",
              "      <td>119508.8622</td>\n",
              "      <td>68951.09542</td>\n",
              "      <td>...</td>\n",
              "      <td>43925.42289</td>\n",
              "      <td>44528.80721</td>\n",
              "      <td>46051.57066</td>\n",
              "      <td>49341.29029</td>\n",
              "      <td>56593.59475</td>\n",
              "      <td>72777.93709</td>\n",
              "      <td>63715.02399</td>\n",
              "      <td>54356.14843</td>\n",
              "      <td>NaN</td>\n",
              "      <td>53096.1549</td>\n",
              "    </tr>\n",
              "    <tr>\n",
              "      <th>3</th>\n",
              "      <td>3</td>\n",
              "      <td>1995-03-01</td>\n",
              "      <td>79120.70256</td>\n",
              "      <td>51268.96956</td>\n",
              "      <td>92247.52435</td>\n",
              "      <td>64367.49344</td>\n",
              "      <td>72015.76274</td>\n",
              "      <td>81449.31143</td>\n",
              "      <td>120282.2131</td>\n",
              "      <td>68712.44341</td>\n",
              "      <td>...</td>\n",
              "      <td>44434.8681</td>\n",
              "      <td>45200.46775</td>\n",
              "      <td>45383.82395</td>\n",
              "      <td>49442.17973</td>\n",
              "      <td>56171.18278</td>\n",
              "      <td>73896.84204</td>\n",
              "      <td>64113.60858</td>\n",
              "      <td>53583.07667</td>\n",
              "      <td>NaN</td>\n",
              "      <td>53201.2843</td>\n",
              "    </tr>\n",
              "    <tr>\n",
              "      <th>4</th>\n",
              "      <td>4</td>\n",
              "      <td>1995-04-01</td>\n",
              "      <td>77101.20804</td>\n",
              "      <td>53133.50526</td>\n",
              "      <td>90762.87492</td>\n",
              "      <td>64277.66881</td>\n",
              "      <td>72965.63094</td>\n",
              "      <td>81124.41227</td>\n",
              "      <td>120097.899</td>\n",
              "      <td>68610.04641</td>\n",
              "      <td>...</td>\n",
              "      <td>44267.7796</td>\n",
              "      <td>45614.34341</td>\n",
              "      <td>46124.23045</td>\n",
              "      <td>49455.93299</td>\n",
              "      <td>56567.89582</td>\n",
              "      <td>74455.28754</td>\n",
              "      <td>64623.22395</td>\n",
              "      <td>54786.01938</td>\n",
              "      <td>NaN</td>\n",
              "      <td>53590.8548</td>\n",
              "    </tr>\n",
              "  </tbody>\n",
              "</table>\n",
              "<p>5 rows × 50 columns</p>\n",
              "</div>\n",
              "      <button class=\"colab-df-convert\" onclick=\"convertToInteractive('df-b88ecc17-b36d-4b71-8a9b-9f5ff16f4b71')\"\n",
              "              title=\"Convert this dataframe to an interactive table.\"\n",
              "              style=\"display:none;\">\n",
              "        \n",
              "  <svg xmlns=\"http://www.w3.org/2000/svg\" height=\"24px\"viewBox=\"0 0 24 24\"\n",
              "       width=\"24px\">\n",
              "    <path d=\"M0 0h24v24H0V0z\" fill=\"none\"/>\n",
              "    <path d=\"M18.56 5.44l.94 2.06.94-2.06 2.06-.94-2.06-.94-.94-2.06-.94 2.06-2.06.94zm-11 1L8.5 8.5l.94-2.06 2.06-.94-2.06-.94L8.5 2.5l-.94 2.06-2.06.94zm10 10l.94 2.06.94-2.06 2.06-.94-2.06-.94-.94-2.06-.94 2.06-2.06.94z\"/><path d=\"M17.41 7.96l-1.37-1.37c-.4-.4-.92-.59-1.43-.59-.52 0-1.04.2-1.43.59L10.3 9.45l-7.72 7.72c-.78.78-.78 2.05 0 2.83L4 21.41c.39.39.9.59 1.41.59.51 0 1.02-.2 1.41-.59l7.78-7.78 2.81-2.81c.8-.78.8-2.07 0-2.86zM5.41 20L4 18.59l7.72-7.72 1.47 1.35L5.41 20z\"/>\n",
              "  </svg>\n",
              "      </button>\n",
              "      \n",
              "  <style>\n",
              "    .colab-df-container {\n",
              "      display:flex;\n",
              "      flex-wrap:wrap;\n",
              "      gap: 12px;\n",
              "    }\n",
              "\n",
              "    .colab-df-convert {\n",
              "      background-color: #E8F0FE;\n",
              "      border: none;\n",
              "      border-radius: 50%;\n",
              "      cursor: pointer;\n",
              "      display: none;\n",
              "      fill: #1967D2;\n",
              "      height: 32px;\n",
              "      padding: 0 0 0 0;\n",
              "      width: 32px;\n",
              "    }\n",
              "\n",
              "    .colab-df-convert:hover {\n",
              "      background-color: #E2EBFA;\n",
              "      box-shadow: 0px 1px 2px rgba(60, 64, 67, 0.3), 0px 1px 3px 1px rgba(60, 64, 67, 0.15);\n",
              "      fill: #174EA6;\n",
              "    }\n",
              "\n",
              "    [theme=dark] .colab-df-convert {\n",
              "      background-color: #3B4455;\n",
              "      fill: #D2E3FC;\n",
              "    }\n",
              "\n",
              "    [theme=dark] .colab-df-convert:hover {\n",
              "      background-color: #434B5C;\n",
              "      box-shadow: 0px 1px 3px 1px rgba(0, 0, 0, 0.15);\n",
              "      filter: drop-shadow(0px 1px 2px rgba(0, 0, 0, 0.3));\n",
              "      fill: #FFFFFF;\n",
              "    }\n",
              "  </style>\n",
              "\n",
              "      <script>\n",
              "        const buttonEl =\n",
              "          document.querySelector('#df-b88ecc17-b36d-4b71-8a9b-9f5ff16f4b71 button.colab-df-convert');\n",
              "        buttonEl.style.display =\n",
              "          google.colab.kernel.accessAllowed ? 'block' : 'none';\n",
              "\n",
              "        async function convertToInteractive(key) {\n",
              "          const element = document.querySelector('#df-b88ecc17-b36d-4b71-8a9b-9f5ff16f4b71');\n",
              "          const dataTable =\n",
              "            await google.colab.kernel.invokeFunction('convertToInteractive',\n",
              "                                                     [key], {});\n",
              "          if (!dataTable) return;\n",
              "\n",
              "          const docLinkHtml = 'Like what you see? Visit the ' +\n",
              "            '<a target=\"_blank\" href=https://colab.research.google.com/notebooks/data_table.ipynb>data table notebook</a>'\n",
              "            + ' to learn more about interactive tables.';\n",
              "          element.innerHTML = '';\n",
              "          dataTable['output_type'] = 'display_data';\n",
              "          await google.colab.output.renderOutput(dataTable, element);\n",
              "          const docLink = document.createElement('div');\n",
              "          docLink.innerHTML = docLinkHtml;\n",
              "          element.appendChild(docLink);\n",
              "        }\n",
              "      </script>\n",
              "    </div>\n",
              "  </div>\n",
              "  "
            ]
          },
          "metadata": {},
          "execution_count": 19
        }
      ]
    },
    {
      "cell_type": "markdown",
      "metadata": {
        "id": "l9Pa-QvrcAVb"
      },
      "source": [
        "Drop the row at index 0!\n",
        "\n",
        "A good way to do this is reassign *properties_T* the value given by the result of calling ***drop()*** on it, with 0 passed to that method."
      ]
    },
    {
      "cell_type": "code",
      "metadata": {
        "id": "TiWzfXKfcAVc"
      },
      "source": [
        "# Have a go at this now.\n",
        "properties_T = properties_T.drop(0)"
      ],
      "execution_count": 21,
      "outputs": []
    },
    {
      "cell_type": "code",
      "metadata": {
        "id": "B32bbCFQcAVd",
        "colab": {
          "base_uri": "https://localhost:8080/",
          "height": 386
        },
        "outputId": "2dc709e3-43ef-4ca4-92df-618bbb77d579"
      },
      "source": [
        "# Now check out our DataFrame again to see how it looks.\n",
        "properties_T.head()"
      ],
      "execution_count": 22,
      "outputs": [
        {
          "output_type": "execute_result",
          "data": {
            "text/plain": [
              "0  0        NaT    E09000001    E09000002    E09000003    E09000004  \\\n",
              "1  1 1995-01-01  91448.98487   50460.2266  93284.51832  64958.09036   \n",
              "2  2 1995-02-01  82202.77314  51085.77983  93190.16963  64787.92069   \n",
              "3  3 1995-03-01  79120.70256  51268.96956  92247.52435  64367.49344   \n",
              "4  4 1995-04-01  77101.20804  53133.50526  90762.87492  64277.66881   \n",
              "5  5 1995-05-01  84409.14932  53042.24852  90258.00033  63997.13588   \n",
              "\n",
              "0    E09000005    E09000006    E09000007    E09000008  ...    E12000002  \\\n",
              "1  71306.56698  81671.47692  120932.8881  69158.16225  ...  43958.48001   \n",
              "2  72022.26197  81657.55944  119508.8622  68951.09542  ...  43925.42289   \n",
              "3  72015.76274  81449.31143  120282.2131  68712.44341  ...   44434.8681   \n",
              "4  72965.63094  81124.41227   120097.899  68610.04641  ...   44267.7796   \n",
              "5  73704.04743  81542.61561  119929.2782   68844.9169  ...  44223.61973   \n",
              "\n",
              "0    E12000003    E12000004    E12000005    E12000006    E12000007  \\\n",
              "1  44803.42878  45544.52227  48527.52339   56701.5961  74435.76052   \n",
              "2  44528.80721  46051.57066  49341.29029  56593.59475  72777.93709   \n",
              "3  45200.46775  45383.82395  49442.17973  56171.18278  73896.84204   \n",
              "4  45614.34341  46124.23045  49455.93299  56567.89582  74455.28754   \n",
              "5  44830.98563  45878.00396  50369.66188  56479.80183  75432.02786   \n",
              "\n",
              "0    E12000008    E12000009 NaN    E92000001  \n",
              "1  64018.87894   54705.1579 NaN  53202.77128  \n",
              "2  63715.02399  54356.14843 NaN   53096.1549  \n",
              "3  64113.60858  53583.07667 NaN   53201.2843  \n",
              "4  64623.22395  54786.01938 NaN   53590.8548  \n",
              "5  64530.36358  54698.83831 NaN  53678.24041  \n",
              "\n",
              "[5 rows x 50 columns]"
            ],
            "text/html": [
              "\n",
              "  <div id=\"df-8f6a05c9-c189-4823-be33-6e2981d8aa98\">\n",
              "    <div class=\"colab-df-container\">\n",
              "      <div>\n",
              "<style scoped>\n",
              "    .dataframe tbody tr th:only-of-type {\n",
              "        vertical-align: middle;\n",
              "    }\n",
              "\n",
              "    .dataframe tbody tr th {\n",
              "        vertical-align: top;\n",
              "    }\n",
              "\n",
              "    .dataframe thead th {\n",
              "        text-align: right;\n",
              "    }\n",
              "</style>\n",
              "<table border=\"1\" class=\"dataframe\">\n",
              "  <thead>\n",
              "    <tr style=\"text-align: right;\">\n",
              "      <th></th>\n",
              "      <th>0</th>\n",
              "      <th>NaT</th>\n",
              "      <th>E09000001</th>\n",
              "      <th>E09000002</th>\n",
              "      <th>E09000003</th>\n",
              "      <th>E09000004</th>\n",
              "      <th>E09000005</th>\n",
              "      <th>E09000006</th>\n",
              "      <th>E09000007</th>\n",
              "      <th>E09000008</th>\n",
              "      <th>...</th>\n",
              "      <th>E12000002</th>\n",
              "      <th>E12000003</th>\n",
              "      <th>E12000004</th>\n",
              "      <th>E12000005</th>\n",
              "      <th>E12000006</th>\n",
              "      <th>E12000007</th>\n",
              "      <th>E12000008</th>\n",
              "      <th>E12000009</th>\n",
              "      <th>NaN</th>\n",
              "      <th>E92000001</th>\n",
              "    </tr>\n",
              "  </thead>\n",
              "  <tbody>\n",
              "    <tr>\n",
              "      <th>1</th>\n",
              "      <td>1</td>\n",
              "      <td>1995-01-01</td>\n",
              "      <td>91448.98487</td>\n",
              "      <td>50460.2266</td>\n",
              "      <td>93284.51832</td>\n",
              "      <td>64958.09036</td>\n",
              "      <td>71306.56698</td>\n",
              "      <td>81671.47692</td>\n",
              "      <td>120932.8881</td>\n",
              "      <td>69158.16225</td>\n",
              "      <td>...</td>\n",
              "      <td>43958.48001</td>\n",
              "      <td>44803.42878</td>\n",
              "      <td>45544.52227</td>\n",
              "      <td>48527.52339</td>\n",
              "      <td>56701.5961</td>\n",
              "      <td>74435.76052</td>\n",
              "      <td>64018.87894</td>\n",
              "      <td>54705.1579</td>\n",
              "      <td>NaN</td>\n",
              "      <td>53202.77128</td>\n",
              "    </tr>\n",
              "    <tr>\n",
              "      <th>2</th>\n",
              "      <td>2</td>\n",
              "      <td>1995-02-01</td>\n",
              "      <td>82202.77314</td>\n",
              "      <td>51085.77983</td>\n",
              "      <td>93190.16963</td>\n",
              "      <td>64787.92069</td>\n",
              "      <td>72022.26197</td>\n",
              "      <td>81657.55944</td>\n",
              "      <td>119508.8622</td>\n",
              "      <td>68951.09542</td>\n",
              "      <td>...</td>\n",
              "      <td>43925.42289</td>\n",
              "      <td>44528.80721</td>\n",
              "      <td>46051.57066</td>\n",
              "      <td>49341.29029</td>\n",
              "      <td>56593.59475</td>\n",
              "      <td>72777.93709</td>\n",
              "      <td>63715.02399</td>\n",
              "      <td>54356.14843</td>\n",
              "      <td>NaN</td>\n",
              "      <td>53096.1549</td>\n",
              "    </tr>\n",
              "    <tr>\n",
              "      <th>3</th>\n",
              "      <td>3</td>\n",
              "      <td>1995-03-01</td>\n",
              "      <td>79120.70256</td>\n",
              "      <td>51268.96956</td>\n",
              "      <td>92247.52435</td>\n",
              "      <td>64367.49344</td>\n",
              "      <td>72015.76274</td>\n",
              "      <td>81449.31143</td>\n",
              "      <td>120282.2131</td>\n",
              "      <td>68712.44341</td>\n",
              "      <td>...</td>\n",
              "      <td>44434.8681</td>\n",
              "      <td>45200.46775</td>\n",
              "      <td>45383.82395</td>\n",
              "      <td>49442.17973</td>\n",
              "      <td>56171.18278</td>\n",
              "      <td>73896.84204</td>\n",
              "      <td>64113.60858</td>\n",
              "      <td>53583.07667</td>\n",
              "      <td>NaN</td>\n",
              "      <td>53201.2843</td>\n",
              "    </tr>\n",
              "    <tr>\n",
              "      <th>4</th>\n",
              "      <td>4</td>\n",
              "      <td>1995-04-01</td>\n",
              "      <td>77101.20804</td>\n",
              "      <td>53133.50526</td>\n",
              "      <td>90762.87492</td>\n",
              "      <td>64277.66881</td>\n",
              "      <td>72965.63094</td>\n",
              "      <td>81124.41227</td>\n",
              "      <td>120097.899</td>\n",
              "      <td>68610.04641</td>\n",
              "      <td>...</td>\n",
              "      <td>44267.7796</td>\n",
              "      <td>45614.34341</td>\n",
              "      <td>46124.23045</td>\n",
              "      <td>49455.93299</td>\n",
              "      <td>56567.89582</td>\n",
              "      <td>74455.28754</td>\n",
              "      <td>64623.22395</td>\n",
              "      <td>54786.01938</td>\n",
              "      <td>NaN</td>\n",
              "      <td>53590.8548</td>\n",
              "    </tr>\n",
              "    <tr>\n",
              "      <th>5</th>\n",
              "      <td>5</td>\n",
              "      <td>1995-05-01</td>\n",
              "      <td>84409.14932</td>\n",
              "      <td>53042.24852</td>\n",
              "      <td>90258.00033</td>\n",
              "      <td>63997.13588</td>\n",
              "      <td>73704.04743</td>\n",
              "      <td>81542.61561</td>\n",
              "      <td>119929.2782</td>\n",
              "      <td>68844.9169</td>\n",
              "      <td>...</td>\n",
              "      <td>44223.61973</td>\n",
              "      <td>44830.98563</td>\n",
              "      <td>45878.00396</td>\n",
              "      <td>50369.66188</td>\n",
              "      <td>56479.80183</td>\n",
              "      <td>75432.02786</td>\n",
              "      <td>64530.36358</td>\n",
              "      <td>54698.83831</td>\n",
              "      <td>NaN</td>\n",
              "      <td>53678.24041</td>\n",
              "    </tr>\n",
              "  </tbody>\n",
              "</table>\n",
              "<p>5 rows × 50 columns</p>\n",
              "</div>\n",
              "      <button class=\"colab-df-convert\" onclick=\"convertToInteractive('df-8f6a05c9-c189-4823-be33-6e2981d8aa98')\"\n",
              "              title=\"Convert this dataframe to an interactive table.\"\n",
              "              style=\"display:none;\">\n",
              "        \n",
              "  <svg xmlns=\"http://www.w3.org/2000/svg\" height=\"24px\"viewBox=\"0 0 24 24\"\n",
              "       width=\"24px\">\n",
              "    <path d=\"M0 0h24v24H0V0z\" fill=\"none\"/>\n",
              "    <path d=\"M18.56 5.44l.94 2.06.94-2.06 2.06-.94-2.06-.94-.94-2.06-.94 2.06-2.06.94zm-11 1L8.5 8.5l.94-2.06 2.06-.94-2.06-.94L8.5 2.5l-.94 2.06-2.06.94zm10 10l.94 2.06.94-2.06 2.06-.94-2.06-.94-.94-2.06-.94 2.06-2.06.94z\"/><path d=\"M17.41 7.96l-1.37-1.37c-.4-.4-.92-.59-1.43-.59-.52 0-1.04.2-1.43.59L10.3 9.45l-7.72 7.72c-.78.78-.78 2.05 0 2.83L4 21.41c.39.39.9.59 1.41.59.51 0 1.02-.2 1.41-.59l7.78-7.78 2.81-2.81c.8-.78.8-2.07 0-2.86zM5.41 20L4 18.59l7.72-7.72 1.47 1.35L5.41 20z\"/>\n",
              "  </svg>\n",
              "      </button>\n",
              "      \n",
              "  <style>\n",
              "    .colab-df-container {\n",
              "      display:flex;\n",
              "      flex-wrap:wrap;\n",
              "      gap: 12px;\n",
              "    }\n",
              "\n",
              "    .colab-df-convert {\n",
              "      background-color: #E8F0FE;\n",
              "      border: none;\n",
              "      border-radius: 50%;\n",
              "      cursor: pointer;\n",
              "      display: none;\n",
              "      fill: #1967D2;\n",
              "      height: 32px;\n",
              "      padding: 0 0 0 0;\n",
              "      width: 32px;\n",
              "    }\n",
              "\n",
              "    .colab-df-convert:hover {\n",
              "      background-color: #E2EBFA;\n",
              "      box-shadow: 0px 1px 2px rgba(60, 64, 67, 0.3), 0px 1px 3px 1px rgba(60, 64, 67, 0.15);\n",
              "      fill: #174EA6;\n",
              "    }\n",
              "\n",
              "    [theme=dark] .colab-df-convert {\n",
              "      background-color: #3B4455;\n",
              "      fill: #D2E3FC;\n",
              "    }\n",
              "\n",
              "    [theme=dark] .colab-df-convert:hover {\n",
              "      background-color: #434B5C;\n",
              "      box-shadow: 0px 1px 3px 1px rgba(0, 0, 0, 0.15);\n",
              "      filter: drop-shadow(0px 1px 2px rgba(0, 0, 0, 0.3));\n",
              "      fill: #FFFFFF;\n",
              "    }\n",
              "  </style>\n",
              "\n",
              "      <script>\n",
              "        const buttonEl =\n",
              "          document.querySelector('#df-8f6a05c9-c189-4823-be33-6e2981d8aa98 button.colab-df-convert');\n",
              "        buttonEl.style.display =\n",
              "          google.colab.kernel.accessAllowed ? 'block' : 'none';\n",
              "\n",
              "        async function convertToInteractive(key) {\n",
              "          const element = document.querySelector('#df-8f6a05c9-c189-4823-be33-6e2981d8aa98');\n",
              "          const dataTable =\n",
              "            await google.colab.kernel.invokeFunction('convertToInteractive',\n",
              "                                                     [key], {});\n",
              "          if (!dataTable) return;\n",
              "\n",
              "          const docLinkHtml = 'Like what you see? Visit the ' +\n",
              "            '<a target=\"_blank\" href=https://colab.research.google.com/notebooks/data_table.ipynb>data table notebook</a>'\n",
              "            + ' to learn more about interactive tables.';\n",
              "          element.innerHTML = '';\n",
              "          dataTable['output_type'] = 'display_data';\n",
              "          await google.colab.output.renderOutput(dataTable, element);\n",
              "          const docLink = document.createElement('div');\n",
              "          docLink.innerHTML = docLinkHtml;\n",
              "          element.appendChild(docLink);\n",
              "        }\n",
              "      </script>\n",
              "    </div>\n",
              "  </div>\n",
              "  "
            ]
          },
          "metadata": {},
          "execution_count": 22
        }
      ]
    },
    {
      "cell_type": "markdown",
      "metadata": {
        "id": "R1Teru9ecAVh"
      },
      "source": [
        "You're slowly but surely getting there! Exciting, right?\n",
        "\n",
        "**Each column now represents a month and year, and each cell-value represents the average price of houses sold in borough of the corresponding row**.\n",
        "\n",
        "You have total control over your data!"
      ]
    },
    {
      "cell_type": "markdown",
      "metadata": {
        "id": "UazH1Wh_cAVi"
      },
      "source": [
        "#### 2.3. Cleaning the data (Part 2)\n",
        "You can see from the *.head()* list call that you need to rename some of your columns.\n",
        "\n",
        "'Unnamed: 0' should be something like 'London Borough' and 'NaN' should  be changed.\n",
        "\n",
        "Recall, that pandas DataFrames have a ***.rename()*** method. One of the keyworded arguments to this method is *columns*. You can assign it a dictionary whose keys are the current column names you want to change, and whose values are the desired new names.\n",
        "\n",
        "**Note**: you can change the 'Unnamed: 0' name of the first column just by including that string as a key in our dictionary, but 'NaN' stands for Not A Number,  and is denoted by *pd.NaT*. Do not use quotes when you include this value. NaN means Not A Number, and NaT means Not A Time - both of these values represent undefined or unrepresenable values like 0/0. They are functionally Null values. Don't worry, we'll help you with this.\n",
        "\n",
        " Call the **rename()** method on *properties_T* and set the *columns* keyword equal to the following dictionary:\n",
        "{'Unnamed: 0':'London_Borough', pd.NaT: 'ID'}\n",
        ", then reassign that value to properties_T to update the DataFrame."
      ]
    },
    {
      "cell_type": "code",
      "metadata": {
        "id": "M5kHlbxucAVi"
      },
      "source": [
        "# Try this here.\n",
        "properties_T = properties_T.rename(columns= {'Unnamed: 0':'London_Borough', pd.NaT: 'ID'})"
      ],
      "execution_count": 24,
      "outputs": []
    },
    {
      "cell_type": "code",
      "metadata": {
        "id": "CI5yUUK6cAVl",
        "colab": {
          "base_uri": "https://localhost:8080/",
          "height": 386
        },
        "outputId": "43b530a8-d87b-4383-a417-a80633a5ecbd"
      },
      "source": [
        "# Let's check out the DataFrame again to admire our good work.\n",
        "properties_T.head()"
      ],
      "execution_count": 25,
      "outputs": [
        {
          "output_type": "execute_result",
          "data": {
            "text/plain": [
              "0  0         ID    E09000001    E09000002    E09000003    E09000004  \\\n",
              "1  1 1995-01-01  91448.98487   50460.2266  93284.51832  64958.09036   \n",
              "2  2 1995-02-01  82202.77314  51085.77983  93190.16963  64787.92069   \n",
              "3  3 1995-03-01  79120.70256  51268.96956  92247.52435  64367.49344   \n",
              "4  4 1995-04-01  77101.20804  53133.50526  90762.87492  64277.66881   \n",
              "5  5 1995-05-01  84409.14932  53042.24852  90258.00033  63997.13588   \n",
              "\n",
              "0    E09000005    E09000006    E09000007    E09000008  ...    E12000002  \\\n",
              "1  71306.56698  81671.47692  120932.8881  69158.16225  ...  43958.48001   \n",
              "2  72022.26197  81657.55944  119508.8622  68951.09542  ...  43925.42289   \n",
              "3  72015.76274  81449.31143  120282.2131  68712.44341  ...   44434.8681   \n",
              "4  72965.63094  81124.41227   120097.899  68610.04641  ...   44267.7796   \n",
              "5  73704.04743  81542.61561  119929.2782   68844.9169  ...  44223.61973   \n",
              "\n",
              "0    E12000003    E12000004    E12000005    E12000006    E12000007  \\\n",
              "1  44803.42878  45544.52227  48527.52339   56701.5961  74435.76052   \n",
              "2  44528.80721  46051.57066  49341.29029  56593.59475  72777.93709   \n",
              "3  45200.46775  45383.82395  49442.17973  56171.18278  73896.84204   \n",
              "4  45614.34341  46124.23045  49455.93299  56567.89582  74455.28754   \n",
              "5  44830.98563  45878.00396  50369.66188  56479.80183  75432.02786   \n",
              "\n",
              "0    E12000008    E12000009 NaN    E92000001  \n",
              "1  64018.87894   54705.1579 NaN  53202.77128  \n",
              "2  63715.02399  54356.14843 NaN   53096.1549  \n",
              "3  64113.60858  53583.07667 NaN   53201.2843  \n",
              "4  64623.22395  54786.01938 NaN   53590.8548  \n",
              "5  64530.36358  54698.83831 NaN  53678.24041  \n",
              "\n",
              "[5 rows x 50 columns]"
            ],
            "text/html": [
              "\n",
              "  <div id=\"df-b8776a27-c966-418b-a2b9-f7cbaf5603cd\">\n",
              "    <div class=\"colab-df-container\">\n",
              "      <div>\n",
              "<style scoped>\n",
              "    .dataframe tbody tr th:only-of-type {\n",
              "        vertical-align: middle;\n",
              "    }\n",
              "\n",
              "    .dataframe tbody tr th {\n",
              "        vertical-align: top;\n",
              "    }\n",
              "\n",
              "    .dataframe thead th {\n",
              "        text-align: right;\n",
              "    }\n",
              "</style>\n",
              "<table border=\"1\" class=\"dataframe\">\n",
              "  <thead>\n",
              "    <tr style=\"text-align: right;\">\n",
              "      <th></th>\n",
              "      <th>0</th>\n",
              "      <th>ID</th>\n",
              "      <th>E09000001</th>\n",
              "      <th>E09000002</th>\n",
              "      <th>E09000003</th>\n",
              "      <th>E09000004</th>\n",
              "      <th>E09000005</th>\n",
              "      <th>E09000006</th>\n",
              "      <th>E09000007</th>\n",
              "      <th>E09000008</th>\n",
              "      <th>...</th>\n",
              "      <th>E12000002</th>\n",
              "      <th>E12000003</th>\n",
              "      <th>E12000004</th>\n",
              "      <th>E12000005</th>\n",
              "      <th>E12000006</th>\n",
              "      <th>E12000007</th>\n",
              "      <th>E12000008</th>\n",
              "      <th>E12000009</th>\n",
              "      <th>NaN</th>\n",
              "      <th>E92000001</th>\n",
              "    </tr>\n",
              "  </thead>\n",
              "  <tbody>\n",
              "    <tr>\n",
              "      <th>1</th>\n",
              "      <td>1</td>\n",
              "      <td>1995-01-01</td>\n",
              "      <td>91448.98487</td>\n",
              "      <td>50460.2266</td>\n",
              "      <td>93284.51832</td>\n",
              "      <td>64958.09036</td>\n",
              "      <td>71306.56698</td>\n",
              "      <td>81671.47692</td>\n",
              "      <td>120932.8881</td>\n",
              "      <td>69158.16225</td>\n",
              "      <td>...</td>\n",
              "      <td>43958.48001</td>\n",
              "      <td>44803.42878</td>\n",
              "      <td>45544.52227</td>\n",
              "      <td>48527.52339</td>\n",
              "      <td>56701.5961</td>\n",
              "      <td>74435.76052</td>\n",
              "      <td>64018.87894</td>\n",
              "      <td>54705.1579</td>\n",
              "      <td>NaN</td>\n",
              "      <td>53202.77128</td>\n",
              "    </tr>\n",
              "    <tr>\n",
              "      <th>2</th>\n",
              "      <td>2</td>\n",
              "      <td>1995-02-01</td>\n",
              "      <td>82202.77314</td>\n",
              "      <td>51085.77983</td>\n",
              "      <td>93190.16963</td>\n",
              "      <td>64787.92069</td>\n",
              "      <td>72022.26197</td>\n",
              "      <td>81657.55944</td>\n",
              "      <td>119508.8622</td>\n",
              "      <td>68951.09542</td>\n",
              "      <td>...</td>\n",
              "      <td>43925.42289</td>\n",
              "      <td>44528.80721</td>\n",
              "      <td>46051.57066</td>\n",
              "      <td>49341.29029</td>\n",
              "      <td>56593.59475</td>\n",
              "      <td>72777.93709</td>\n",
              "      <td>63715.02399</td>\n",
              "      <td>54356.14843</td>\n",
              "      <td>NaN</td>\n",
              "      <td>53096.1549</td>\n",
              "    </tr>\n",
              "    <tr>\n",
              "      <th>3</th>\n",
              "      <td>3</td>\n",
              "      <td>1995-03-01</td>\n",
              "      <td>79120.70256</td>\n",
              "      <td>51268.96956</td>\n",
              "      <td>92247.52435</td>\n",
              "      <td>64367.49344</td>\n",
              "      <td>72015.76274</td>\n",
              "      <td>81449.31143</td>\n",
              "      <td>120282.2131</td>\n",
              "      <td>68712.44341</td>\n",
              "      <td>...</td>\n",
              "      <td>44434.8681</td>\n",
              "      <td>45200.46775</td>\n",
              "      <td>45383.82395</td>\n",
              "      <td>49442.17973</td>\n",
              "      <td>56171.18278</td>\n",
              "      <td>73896.84204</td>\n",
              "      <td>64113.60858</td>\n",
              "      <td>53583.07667</td>\n",
              "      <td>NaN</td>\n",
              "      <td>53201.2843</td>\n",
              "    </tr>\n",
              "    <tr>\n",
              "      <th>4</th>\n",
              "      <td>4</td>\n",
              "      <td>1995-04-01</td>\n",
              "      <td>77101.20804</td>\n",
              "      <td>53133.50526</td>\n",
              "      <td>90762.87492</td>\n",
              "      <td>64277.66881</td>\n",
              "      <td>72965.63094</td>\n",
              "      <td>81124.41227</td>\n",
              "      <td>120097.899</td>\n",
              "      <td>68610.04641</td>\n",
              "      <td>...</td>\n",
              "      <td>44267.7796</td>\n",
              "      <td>45614.34341</td>\n",
              "      <td>46124.23045</td>\n",
              "      <td>49455.93299</td>\n",
              "      <td>56567.89582</td>\n",
              "      <td>74455.28754</td>\n",
              "      <td>64623.22395</td>\n",
              "      <td>54786.01938</td>\n",
              "      <td>NaN</td>\n",
              "      <td>53590.8548</td>\n",
              "    </tr>\n",
              "    <tr>\n",
              "      <th>5</th>\n",
              "      <td>5</td>\n",
              "      <td>1995-05-01</td>\n",
              "      <td>84409.14932</td>\n",
              "      <td>53042.24852</td>\n",
              "      <td>90258.00033</td>\n",
              "      <td>63997.13588</td>\n",
              "      <td>73704.04743</td>\n",
              "      <td>81542.61561</td>\n",
              "      <td>119929.2782</td>\n",
              "      <td>68844.9169</td>\n",
              "      <td>...</td>\n",
              "      <td>44223.61973</td>\n",
              "      <td>44830.98563</td>\n",
              "      <td>45878.00396</td>\n",
              "      <td>50369.66188</td>\n",
              "      <td>56479.80183</td>\n",
              "      <td>75432.02786</td>\n",
              "      <td>64530.36358</td>\n",
              "      <td>54698.83831</td>\n",
              "      <td>NaN</td>\n",
              "      <td>53678.24041</td>\n",
              "    </tr>\n",
              "  </tbody>\n",
              "</table>\n",
              "<p>5 rows × 50 columns</p>\n",
              "</div>\n",
              "      <button class=\"colab-df-convert\" onclick=\"convertToInteractive('df-b8776a27-c966-418b-a2b9-f7cbaf5603cd')\"\n",
              "              title=\"Convert this dataframe to an interactive table.\"\n",
              "              style=\"display:none;\">\n",
              "        \n",
              "  <svg xmlns=\"http://www.w3.org/2000/svg\" height=\"24px\"viewBox=\"0 0 24 24\"\n",
              "       width=\"24px\">\n",
              "    <path d=\"M0 0h24v24H0V0z\" fill=\"none\"/>\n",
              "    <path d=\"M18.56 5.44l.94 2.06.94-2.06 2.06-.94-2.06-.94-.94-2.06-.94 2.06-2.06.94zm-11 1L8.5 8.5l.94-2.06 2.06-.94-2.06-.94L8.5 2.5l-.94 2.06-2.06.94zm10 10l.94 2.06.94-2.06 2.06-.94-2.06-.94-.94-2.06-.94 2.06-2.06.94z\"/><path d=\"M17.41 7.96l-1.37-1.37c-.4-.4-.92-.59-1.43-.59-.52 0-1.04.2-1.43.59L10.3 9.45l-7.72 7.72c-.78.78-.78 2.05 0 2.83L4 21.41c.39.39.9.59 1.41.59.51 0 1.02-.2 1.41-.59l7.78-7.78 2.81-2.81c.8-.78.8-2.07 0-2.86zM5.41 20L4 18.59l7.72-7.72 1.47 1.35L5.41 20z\"/>\n",
              "  </svg>\n",
              "      </button>\n",
              "      \n",
              "  <style>\n",
              "    .colab-df-container {\n",
              "      display:flex;\n",
              "      flex-wrap:wrap;\n",
              "      gap: 12px;\n",
              "    }\n",
              "\n",
              "    .colab-df-convert {\n",
              "      background-color: #E8F0FE;\n",
              "      border: none;\n",
              "      border-radius: 50%;\n",
              "      cursor: pointer;\n",
              "      display: none;\n",
              "      fill: #1967D2;\n",
              "      height: 32px;\n",
              "      padding: 0 0 0 0;\n",
              "      width: 32px;\n",
              "    }\n",
              "\n",
              "    .colab-df-convert:hover {\n",
              "      background-color: #E2EBFA;\n",
              "      box-shadow: 0px 1px 2px rgba(60, 64, 67, 0.3), 0px 1px 3px 1px rgba(60, 64, 67, 0.15);\n",
              "      fill: #174EA6;\n",
              "    }\n",
              "\n",
              "    [theme=dark] .colab-df-convert {\n",
              "      background-color: #3B4455;\n",
              "      fill: #D2E3FC;\n",
              "    }\n",
              "\n",
              "    [theme=dark] .colab-df-convert:hover {\n",
              "      background-color: #434B5C;\n",
              "      box-shadow: 0px 1px 3px 1px rgba(0, 0, 0, 0.15);\n",
              "      filter: drop-shadow(0px 1px 2px rgba(0, 0, 0, 0.3));\n",
              "      fill: #FFFFFF;\n",
              "    }\n",
              "  </style>\n",
              "\n",
              "      <script>\n",
              "        const buttonEl =\n",
              "          document.querySelector('#df-b8776a27-c966-418b-a2b9-f7cbaf5603cd button.colab-df-convert');\n",
              "        buttonEl.style.display =\n",
              "          google.colab.kernel.accessAllowed ? 'block' : 'none';\n",
              "\n",
              "        async function convertToInteractive(key) {\n",
              "          const element = document.querySelector('#df-b8776a27-c966-418b-a2b9-f7cbaf5603cd');\n",
              "          const dataTable =\n",
              "            await google.colab.kernel.invokeFunction('convertToInteractive',\n",
              "                                                     [key], {});\n",
              "          if (!dataTable) return;\n",
              "\n",
              "          const docLinkHtml = 'Like what you see? Visit the ' +\n",
              "            '<a target=\"_blank\" href=https://colab.research.google.com/notebooks/data_table.ipynb>data table notebook</a>'\n",
              "            + ' to learn more about interactive tables.';\n",
              "          element.innerHTML = '';\n",
              "          dataTable['output_type'] = 'display_data';\n",
              "          await google.colab.output.renderOutput(dataTable, element);\n",
              "          const docLink = document.createElement('div');\n",
              "          docLink.innerHTML = docLinkHtml;\n",
              "          element.appendChild(docLink);\n",
              "        }\n",
              "      </script>\n",
              "    </div>\n",
              "  </div>\n",
              "  "
            ]
          },
          "metadata": {},
          "execution_count": 25
        }
      ]
    },
    {
      "cell_type": "markdown",
      "metadata": {
        "id": "Rd8YFt0CcAVn"
      },
      "source": [
        "You're making great leaps forward, but your DataFrame still has lots of columns. Let's find out exactly how many it has by calling ***.columns*** on our DataFrame.\n"
      ]
    },
    {
      "cell_type": "code",
      "metadata": {
        "id": "ZnBbY8iFcAVn",
        "colab": {
          "base_uri": "https://localhost:8080/"
        },
        "outputId": "6dab1d6a-880a-473e-c200-00768adc927e"
      },
      "source": [
        "# Try this here.\n",
        "properties_T.columns"
      ],
      "execution_count": 26,
      "outputs": [
        {
          "output_type": "execute_result",
          "data": {
            "text/plain": [
              "Index([          0,        'ID', 'E09000001', 'E09000002', 'E09000003',\n",
              "       'E09000004', 'E09000005', 'E09000006', 'E09000007', 'E09000008',\n",
              "       'E09000009', 'E09000010', 'E09000011', 'E09000012', 'E09000013',\n",
              "       'E09000014', 'E09000015', 'E09000016', 'E09000017', 'E09000018',\n",
              "       'E09000019', 'E09000020', 'E09000021', 'E09000022', 'E09000023',\n",
              "       'E09000024', 'E09000025', 'E09000026', 'E09000027', 'E09000028',\n",
              "       'E09000029', 'E09000030', 'E09000031', 'E09000032', 'E09000033',\n",
              "               nan, 'E13000001', 'E13000002',         nan, 'E12000001',\n",
              "       'E12000002', 'E12000003', 'E12000004', 'E12000005', 'E12000006',\n",
              "       'E12000007', 'E12000008', 'E12000009',         nan, 'E92000001'],\n",
              "      dtype='object', name=0)"
            ]
          },
          "metadata": {},
          "execution_count": 26
        }
      ]
    },
    {
      "cell_type": "markdown",
      "metadata": {
        "id": "O1ZskDM0cAVp"
      },
      "source": [
        "#### 2.4. Transforming the data\n",
        "Our data would be tidier if we had fewer columns.\n",
        "\n",
        "In fact a ***single*** column for time be better than nearly 300? This single column will contain all of the datetimes in our current column headings.\n",
        "\n",
        "**Remember** the two most important properties of tidy data are:\n",
        "1. **Each column is a variable.**\n",
        "\n",
        "2. **Each row is an observation.**\n",
        "\n",
        "One of the miraculous things about pandas is ***melt()***, which enables us to melt those values along the column headings of our current DataFrame into a single column.\n",
        "\n",
        "Let's make a new DataFrame called clean_properties, and assign it the return value of ***pd.melt()*** with the parameters: *properties_T* and *id_vars = ['Borough', 'ID']*.\n",
        "\n",
        "The result will be a DataFrame with rows representing the average house price within a given month and a given borough. Exactly what we want."
      ]
    },
    {
      "cell_type": "code",
      "metadata": {
        "id": "eZ4-eIHAcAVp",
        "colab": {
          "base_uri": "https://localhost:8080/",
          "height": 329
        },
        "outputId": "27eac97c-8814-4239-f8f7-facc862f02f1"
      },
      "source": [
        "# Try this here:\n",
        "clean_properties = pd.melt(properties_T, id_vars= ['Borough', 'ID'])"
      ],
      "execution_count": 28,
      "outputs": [
        {
          "output_type": "error",
          "ename": "KeyError",
          "evalue": "ignored",
          "traceback": [
            "\u001b[0;31m---------------------------------------------------------------------------\u001b[0m",
            "\u001b[0;31mKeyError\u001b[0m                                  Traceback (most recent call last)",
            "\u001b[0;32m<ipython-input-28-23fcb1b620f8>\u001b[0m in \u001b[0;36m<cell line: 2>\u001b[0;34m()\u001b[0m\n\u001b[1;32m      1\u001b[0m \u001b[0;31m# Try this here:\u001b[0m\u001b[0;34m\u001b[0m\u001b[0;34m\u001b[0m\u001b[0m\n\u001b[0;32m----> 2\u001b[0;31m \u001b[0mclean_properties\u001b[0m \u001b[0;34m=\u001b[0m \u001b[0mpd\u001b[0m\u001b[0;34m.\u001b[0m\u001b[0mmelt\u001b[0m\u001b[0;34m(\u001b[0m\u001b[0mproperties_T\u001b[0m\u001b[0;34m,\u001b[0m \u001b[0mid_vars\u001b[0m\u001b[0;34m=\u001b[0m \u001b[0;34m[\u001b[0m\u001b[0;34m'Borough'\u001b[0m\u001b[0;34m,\u001b[0m \u001b[0;34m'ID'\u001b[0m\u001b[0;34m]\u001b[0m\u001b[0;34m)\u001b[0m\u001b[0;34m\u001b[0m\u001b[0;34m\u001b[0m\u001b[0m\n\u001b[0m",
            "\u001b[0;32m/usr/local/lib/python3.10/dist-packages/pandas/core/reshape/melt.py\u001b[0m in \u001b[0;36mmelt\u001b[0;34m(frame, id_vars, value_vars, var_name, value_name, col_level, ignore_index)\u001b[0m\n\u001b[1;32m     75\u001b[0m             \u001b[0mmissing\u001b[0m \u001b[0;34m=\u001b[0m \u001b[0mIndex\u001b[0m\u001b[0;34m(\u001b[0m\u001b[0mcom\u001b[0m\u001b[0;34m.\u001b[0m\u001b[0mflatten\u001b[0m\u001b[0;34m(\u001b[0m\u001b[0mid_vars\u001b[0m\u001b[0;34m)\u001b[0m\u001b[0;34m)\u001b[0m\u001b[0;34m.\u001b[0m\u001b[0mdifference\u001b[0m\u001b[0;34m(\u001b[0m\u001b[0mcols\u001b[0m\u001b[0;34m)\u001b[0m\u001b[0;34m\u001b[0m\u001b[0;34m\u001b[0m\u001b[0m\n\u001b[1;32m     76\u001b[0m             \u001b[0;32mif\u001b[0m \u001b[0;32mnot\u001b[0m \u001b[0mmissing\u001b[0m\u001b[0;34m.\u001b[0m\u001b[0mempty\u001b[0m\u001b[0;34m:\u001b[0m\u001b[0;34m\u001b[0m\u001b[0;34m\u001b[0m\u001b[0m\n\u001b[0;32m---> 77\u001b[0;31m                 raise KeyError(\n\u001b[0m\u001b[1;32m     78\u001b[0m                     \u001b[0;34m\"The following 'id_vars' are not present \"\u001b[0m\u001b[0;34m\u001b[0m\u001b[0;34m\u001b[0m\u001b[0m\n\u001b[1;32m     79\u001b[0m                     \u001b[0;34mf\"in the DataFrame: {list(missing)}\"\u001b[0m\u001b[0;34m\u001b[0m\u001b[0;34m\u001b[0m\u001b[0m\n",
            "\u001b[0;31mKeyError\u001b[0m: \"The following 'id_vars' are not present in the DataFrame: ['Borough']\""
          ]
        }
      ]
    },
    {
      "cell_type": "code",
      "metadata": {
        "id": "ukbTKJ9gcAVr",
        "colab": {
          "base_uri": "https://localhost:8080/",
          "height": 169
        },
        "outputId": "b82c8240-8b25-462d-e982-5a597f9f2902"
      },
      "source": [
        "clean_properties.head()"
      ],
      "execution_count": 29,
      "outputs": [
        {
          "output_type": "error",
          "ename": "NameError",
          "evalue": "ignored",
          "traceback": [
            "\u001b[0;31m---------------------------------------------------------------------------\u001b[0m",
            "\u001b[0;31mNameError\u001b[0m                                 Traceback (most recent call last)",
            "\u001b[0;32m<ipython-input-29-a75b62af8ba9>\u001b[0m in \u001b[0;36m<cell line: 1>\u001b[0;34m()\u001b[0m\n\u001b[0;32m----> 1\u001b[0;31m \u001b[0mclean_properties\u001b[0m\u001b[0;34m.\u001b[0m\u001b[0mhead\u001b[0m\u001b[0;34m(\u001b[0m\u001b[0;34m)\u001b[0m\u001b[0;34m\u001b[0m\u001b[0;34m\u001b[0m\u001b[0m\n\u001b[0m",
            "\u001b[0;31mNameError\u001b[0m: name 'clean_properties' is not defined"
          ]
        }
      ]
    },
    {
      "cell_type": "markdown",
      "metadata": {
        "id": "GveQuAwCcAVs"
      },
      "source": [
        "Awesome. This is looking good.\n",
        "\n",
        "We now want to rename the '0' column 'Month', and the 'value' column 'Average_price'.\n",
        "\n",
        "Use the ***rename()*** method, and reassign *clean_properties* with the result."
      ]
    },
    {
      "cell_type": "code",
      "metadata": {
        "id": "Cef4yksfcAVt",
        "colab": {
          "base_uri": "https://localhost:8080/",
          "height": 187
        },
        "outputId": "e8078668-8f31-4648-ae41-56f323dc8e7a"
      },
      "source": [
        "# Re-name the column names\n",
        "clean_properties = clean_properties.rename(columns = {0: 'Month', 'value': 'Average_price'})"
      ],
      "execution_count": 1,
      "outputs": [
        {
          "output_type": "error",
          "ename": "NameError",
          "evalue": "ignored",
          "traceback": [
            "\u001b[0;31m---------------------------------------------------------------------------\u001b[0m",
            "\u001b[0;31mNameError\u001b[0m                                 Traceback (most recent call last)",
            "\u001b[0;32m<ipython-input-1-42ec63573908>\u001b[0m in \u001b[0;36m<cell line: 2>\u001b[0;34m()\u001b[0m\n\u001b[1;32m      1\u001b[0m \u001b[0;31m# Re-name the column names\u001b[0m\u001b[0;34m\u001b[0m\u001b[0;34m\u001b[0m\u001b[0m\n\u001b[0;32m----> 2\u001b[0;31m \u001b[0mclean_properties\u001b[0m \u001b[0;34m=\u001b[0m \u001b[0mclean_properties\u001b[0m\u001b[0;34m.\u001b[0m\u001b[0mrename\u001b[0m\u001b[0;34m(\u001b[0m\u001b[0mcolumns\u001b[0m \u001b[0;34m=\u001b[0m \u001b[0;34m{\u001b[0m\u001b[0;36m0\u001b[0m\u001b[0;34m:\u001b[0m \u001b[0;34m'Month'\u001b[0m\u001b[0;34m,\u001b[0m \u001b[0;34m'value'\u001b[0m\u001b[0;34m:\u001b[0m \u001b[0;34m'Average_price'\u001b[0m\u001b[0;34m}\u001b[0m\u001b[0;34m)\u001b[0m\u001b[0;34m\u001b[0m\u001b[0;34m\u001b[0m\u001b[0m\n\u001b[0m",
            "\u001b[0;31mNameError\u001b[0m: name 'clean_properties' is not defined"
          ]
        }
      ]
    },
    {
      "cell_type": "code",
      "metadata": {
        "id": "9CCkY4mdcAVv",
        "colab": {
          "base_uri": "https://localhost:8080/",
          "height": 187
        },
        "outputId": "d79b506b-d721-4db3-db56-0776e53b0631"
      },
      "source": [
        "# Check out the DataFrame:\n",
        "clean_properties.head()"
      ],
      "execution_count": 2,
      "outputs": [
        {
          "output_type": "error",
          "ename": "NameError",
          "evalue": "ignored",
          "traceback": [
            "\u001b[0;31m---------------------------------------------------------------------------\u001b[0m",
            "\u001b[0;31mNameError\u001b[0m                                 Traceback (most recent call last)",
            "\u001b[0;32m<ipython-input-2-8a9f68ec2501>\u001b[0m in \u001b[0;36m<cell line: 2>\u001b[0;34m()\u001b[0m\n\u001b[1;32m      1\u001b[0m \u001b[0;31m# Check out the DataFrame:\u001b[0m\u001b[0;34m\u001b[0m\u001b[0;34m\u001b[0m\u001b[0m\n\u001b[0;32m----> 2\u001b[0;31m \u001b[0mclean_properties\u001b[0m\u001b[0;34m.\u001b[0m\u001b[0mhead\u001b[0m\u001b[0;34m(\u001b[0m\u001b[0;34m)\u001b[0m\u001b[0;34m\u001b[0m\u001b[0;34m\u001b[0m\u001b[0m\n\u001b[0m",
            "\u001b[0;31mNameError\u001b[0m: name 'clean_properties' is not defined"
          ]
        }
      ]
    },
    {
      "cell_type": "markdown",
      "metadata": {
        "id": "RSUuXokncAVx"
      },
      "source": [
        "You need to check out the data types of our clean_properties DataFrame, just in case you need to do any type conversions."
      ]
    },
    {
      "cell_type": "code",
      "metadata": {
        "id": "BW6IB1vzcAVx",
        "colab": {
          "base_uri": "https://localhost:8080/",
          "height": 187
        },
        "outputId": "c83f9959-03db-4992-8760-1df01702360a"
      },
      "source": [
        "# Let's use the .dtypes attribute to check the data types of our clean_properties DataFrame:\n",
        "clean_properties.dtypes"
      ],
      "execution_count": 3,
      "outputs": [
        {
          "output_type": "error",
          "ename": "NameError",
          "evalue": "ignored",
          "traceback": [
            "\u001b[0;31m---------------------------------------------------------------------------\u001b[0m",
            "\u001b[0;31mNameError\u001b[0m                                 Traceback (most recent call last)",
            "\u001b[0;32m<ipython-input-3-2a1d509085da>\u001b[0m in \u001b[0;36m<cell line: 2>\u001b[0;34m()\u001b[0m\n\u001b[1;32m      1\u001b[0m \u001b[0;31m# Let's use the .dtypes attribute to check the data types of our clean_properties DataFrame:\u001b[0m\u001b[0;34m\u001b[0m\u001b[0;34m\u001b[0m\u001b[0m\n\u001b[0;32m----> 2\u001b[0;31m \u001b[0mclean_properties\u001b[0m\u001b[0;34m.\u001b[0m\u001b[0mdtypes\u001b[0m\u001b[0;34m\u001b[0m\u001b[0;34m\u001b[0m\u001b[0m\n\u001b[0m",
            "\u001b[0;31mNameError\u001b[0m: name 'clean_properties' is not defined"
          ]
        }
      ]
    },
    {
      "cell_type": "markdown",
      "metadata": {
        "id": "rz9pr-TBcAVz"
      },
      "source": [
        "You should change the Average_price column to a numeric type, specifically, a float.\n",
        "\n",
        "Call the ***to_numeric()*** method on *pd*, pass the 'Average_price' column into its brackets, and reassign the result to the *clean_properties* 'Average_price' column."
      ]
    },
    {
      "cell_type": "code",
      "metadata": {
        "id": "W3UQDMuNcAV0",
        "colab": {
          "base_uri": "https://localhost:8080/",
          "height": 187
        },
        "outputId": "a019bbe0-00af-408b-f175-49663c54dc53"
      },
      "source": [
        "# Try this here\n",
        "clean_properties['Average_price'] = pd.to_numeric(clean_properties['Average_price'])"
      ],
      "execution_count": 4,
      "outputs": [
        {
          "output_type": "error",
          "ename": "NameError",
          "evalue": "ignored",
          "traceback": [
            "\u001b[0;31m---------------------------------------------------------------------------\u001b[0m",
            "\u001b[0;31mNameError\u001b[0m                                 Traceback (most recent call last)",
            "\u001b[0;32m<ipython-input-4-86111054f692>\u001b[0m in \u001b[0;36m<cell line: 2>\u001b[0;34m()\u001b[0m\n\u001b[1;32m      1\u001b[0m \u001b[0;31m# Try this here\u001b[0m\u001b[0;34m\u001b[0m\u001b[0;34m\u001b[0m\u001b[0m\n\u001b[0;32m----> 2\u001b[0;31m \u001b[0mclean_properties\u001b[0m\u001b[0;34m[\u001b[0m\u001b[0;34m'Average_price'\u001b[0m\u001b[0;34m]\u001b[0m \u001b[0;34m=\u001b[0m \u001b[0mpd\u001b[0m\u001b[0;34m.\u001b[0m\u001b[0mto_numeric\u001b[0m\u001b[0;34m(\u001b[0m\u001b[0mclean_properties\u001b[0m\u001b[0;34m[\u001b[0m\u001b[0;34m'Average_price'\u001b[0m\u001b[0;34m]\u001b[0m\u001b[0;34m)\u001b[0m\u001b[0;34m\u001b[0m\u001b[0;34m\u001b[0m\u001b[0m\n\u001b[0m",
            "\u001b[0;31mNameError\u001b[0m: name 'pd' is not defined"
          ]
        }
      ]
    },
    {
      "cell_type": "code",
      "metadata": {
        "id": "eP80X64kcAV2"
      },
      "source": [
        "# Check out the new data types:\n",
        "clean_properties.dtypes"
      ],
      "execution_count": null,
      "outputs": []
    },
    {
      "cell_type": "code",
      "metadata": {
        "id": "AjYRqVAycAV3"
      },
      "source": [
        "# To see if there are any missing values, we should call the count() method on our DataFrame:\n",
        "clean_properties.count()"
      ],
      "execution_count": null,
      "outputs": []
    },
    {
      "cell_type": "markdown",
      "metadata": {
        "id": "NGqAbVlMcAV5"
      },
      "source": [
        "#### 2.5. Cleaning the data (Part 3)\n",
        "Houston, we have a problem!\n",
        "\n",
        "There are fewer data points in some of the columns. Why might this be? Let's investigate.\n",
        "\n",
        "Since there are only 32 London boroughs, check out the unique values of the 'London_Borough' column to see if they're all there.\n",
        "\n",
        "Just call the ***unique()*** method on the London_Borough column."
      ]
    },
    {
      "cell_type": "code",
      "metadata": {
        "id": "jWsQtcrtcAV6"
      },
      "source": [
        "# Do this here.\n",
        "clean_properties['London_Borough'].unique()"
      ],
      "execution_count": null,
      "outputs": []
    },
    {
      "cell_type": "markdown",
      "metadata": {
        "id": "Sk9R8sNpcAV7"
      },
      "source": [
        "Aha! Some of these strings are not London boroughs. You're basically Sherlock Holmes, getting ever closer solving the mystery!\n",
        "\n",
        "The strings that don't belong:\n",
        "- 'Unnamed: 34'\n",
        "- 'Unnamed: 37'\n",
        "- 'NORTH EAST'\n",
        "- 'NORTH WEST'\n",
        "- 'YORKS & THE HUMBER'\n",
        "- 'EAST MIDLANDS'\n",
        "- 'WEST MIDLANDS'\n",
        "- 'EAST OF ENGLAND'\n",
        "- 'LONDON'\n",
        "- 'SOUTH EAST'\n",
        "- 'SOUTH WEST'\n",
        "- 'Unnamed: 47'\n",
        "- 'England'\n",
        "\n",
        "Go see what information is contained in rows where London_Boroughs is 'Unnamed’ and, if there’s nothing valuable, we can drop them.  To investigate, subset the clean_properties DataFrame on this condition."
      ]
    },
    {
      "cell_type": "code",
      "metadata": {
        "id": "Mk1e3woZcAV8"
      },
      "source": [
        "# Subset clean_properties on the condition: df['London_Borough'] == 'Unnamed: 34' to see what information these rows contain.\n",
        "clean_properties[clean_properties['London_Borough'] == 'Unnamed: 34'].head()"
      ],
      "execution_count": null,
      "outputs": []
    },
    {
      "cell_type": "code",
      "metadata": {
        "id": "P1Uqu0q9cAV9"
      },
      "source": [
        "# Let's do the same for 'Unnamed: 37':\n",
        "clean_properties[clean_properties['London_Borough'] == 'Unnamed: 37'].head()"
      ],
      "execution_count": null,
      "outputs": []
    },
    {
      "cell_type": "markdown",
      "metadata": {
        "id": "2mRyfAgXcAV_"
      },
      "source": [
        "These rows don't contain any valuable information. Delete them.\n",
        "\n"
      ]
    },
    {
      "cell_type": "code",
      "metadata": {
        "id": "OlvJPQ6KcAWA"
      },
      "source": [
        "# Let's look at how many rows have NAs as their value for ID.\n",
        "# To this end, subset clean_properties on the condition: clean_properties['ID'].isna().\n",
        "# Notice that this line doesn't actually reassign a new value to clean_properties.\n",
        "clean_properties[clean_properties['ID'].isna()]"
      ],
      "execution_count": null,
      "outputs": []
    },
    {
      "cell_type": "markdown",
      "metadata": {
        "id": "DOPMYa-8cAWD"
      },
      "source": [
        "You always have a ***choice*** about how to deal with Null (NaN) values. We'll teach you two methods today:\n",
        "1. filtering on ***notna()***\n",
        "2. reassigning on ***dropna()***\n",
        "\n",
        "Try ***notna()*** first.  ***notna()*** will return a series of booleans, where the value will be true if there's a not a null and false if there is a null.\n",
        "\n",
        "Make a new variable called *NaNFreeDF1* and assign it the result of filtering *clean_properties* on the condition: *clean_properties['Average_price'].notna()*"
      ]
    },
    {
      "cell_type": "code",
      "metadata": {
        "id": "ZY9aC1zHcAWD",
        "colab": {
          "base_uri": "https://localhost:8080/",
          "height": 204
        },
        "outputId": "e36d138c-4160-4264-ea31-a2b55988b56c"
      },
      "source": [
        "# Try your hand at method (1) here:\n",
        "NaNFreeDF1 = clean_properties[clean_properties['Average_price'].notna()]\n",
        "NaNFreeDF1.head(48)"
      ],
      "execution_count": 1,
      "outputs": [
        {
          "output_type": "error",
          "ename": "NameError",
          "evalue": "ignored",
          "traceback": [
            "\u001b[0;31m---------------------------------------------------------------------------\u001b[0m",
            "\u001b[0;31mNameError\u001b[0m                                 Traceback (most recent call last)",
            "\u001b[0;32m<ipython-input-1-21fdad7e97a9>\u001b[0m in \u001b[0;36m<cell line: 2>\u001b[0;34m()\u001b[0m\n\u001b[1;32m      1\u001b[0m \u001b[0;31m# Try your hand at method (1) here:\u001b[0m\u001b[0;34m\u001b[0m\u001b[0;34m\u001b[0m\u001b[0m\n\u001b[0;32m----> 2\u001b[0;31m \u001b[0mNaNFreeDF1\u001b[0m \u001b[0;34m=\u001b[0m \u001b[0mclean_properties\u001b[0m\u001b[0;34m[\u001b[0m\u001b[0mclean_properties\u001b[0m\u001b[0;34m[\u001b[0m\u001b[0;34m'Average_price'\u001b[0m\u001b[0;34m]\u001b[0m\u001b[0;34m.\u001b[0m\u001b[0mnotna\u001b[0m\u001b[0;34m(\u001b[0m\u001b[0;34m)\u001b[0m\u001b[0;34m]\u001b[0m\u001b[0;34m\u001b[0m\u001b[0;34m\u001b[0m\u001b[0m\n\u001b[0m\u001b[1;32m      3\u001b[0m \u001b[0mNaNFreeDF1\u001b[0m\u001b[0;34m.\u001b[0m\u001b[0mhead\u001b[0m\u001b[0;34m(\u001b[0m\u001b[0;36m48\u001b[0m\u001b[0;34m)\u001b[0m\u001b[0;34m\u001b[0m\u001b[0;34m\u001b[0m\u001b[0m\n",
            "\u001b[0;31mNameError\u001b[0m: name 'clean_properties' is not defined"
          ]
        }
      ]
    },
    {
      "cell_type": "code",
      "metadata": {
        "id": "EJJnp-AtcAWF",
        "colab": {
          "base_uri": "https://localhost:8080/",
          "height": 204
        },
        "outputId": "e41b4c3e-a268-46f9-ed22-77f0c21da70d"
      },
      "source": [
        "# If we do a count on our new DataFrame, we'll see how many rows we have that have complete information:\n",
        "NaNFreeDF1.count()"
      ],
      "execution_count": 2,
      "outputs": [
        {
          "output_type": "error",
          "ename": "NameError",
          "evalue": "ignored",
          "traceback": [
            "\u001b[0;31m---------------------------------------------------------------------------\u001b[0m",
            "\u001b[0;31mNameError\u001b[0m                                 Traceback (most recent call last)",
            "\u001b[0;32m<ipython-input-2-f8c7821bb299>\u001b[0m in \u001b[0;36m<cell line: 2>\u001b[0;34m()\u001b[0m\n\u001b[1;32m      1\u001b[0m \u001b[0;31m# If we do a count on our new DataFrame, we'll see how many rows we have that have complete information:\u001b[0m\u001b[0;34m\u001b[0m\u001b[0;34m\u001b[0m\u001b[0m\n\u001b[0;32m----> 2\u001b[0;31m \u001b[0mNaNFreeDF1\u001b[0m\u001b[0;34m.\u001b[0m\u001b[0mcount\u001b[0m\u001b[0;34m(\u001b[0m\u001b[0;34m)\u001b[0m\u001b[0;34m\u001b[0m\u001b[0;34m\u001b[0m\u001b[0m\n\u001b[0m",
            "\u001b[0;31mNameError\u001b[0m: name 'NaNFreeDF1' is not defined"
          ]
        }
      ]
    },
    {
      "cell_type": "markdown",
      "metadata": {
        "id": "47b-DUF7cAWH"
      },
      "source": [
        "Looks good!\n",
        "\n",
        "For completeness, now use ***dropna()***. ***dropna()*** will drop all null values.\n",
        "\n",
        "Make a new variable called *NaNFreeDF2*, and assign it the result of calling ***dropna()*** on *clean_properties*."
      ]
    },
    {
      "cell_type": "code",
      "metadata": {
        "id": "NCQd17hfcAWI"
      },
      "source": [
        "# filtering the data with NaN values\n",
        "NaNFreeDF2 = clean_properties.dropna()\n",
        "NaNFreeDF2.head(48)"
      ],
      "execution_count": null,
      "outputs": []
    },
    {
      "cell_type": "code",
      "metadata": {
        "id": "bTaY4oO5cAWJ"
      },
      "source": [
        "# Let's do a count on this DataFrame object:\n",
        "NaNFreeDF2.count()"
      ],
      "execution_count": null,
      "outputs": []
    },
    {
      "cell_type": "code",
      "metadata": {
        "id": "P3X4CvA0cAWM"
      },
      "source": [
        "NaNFreeDF2['London_Borough'].unique()"
      ],
      "execution_count": null,
      "outputs": []
    },
    {
      "cell_type": "markdown",
      "metadata": {
        "id": "KVd0KUb8cAWR"
      },
      "source": [
        "Both these methods did the job! Thus, you can pick either resultant DataFrame."
      ]
    },
    {
      "cell_type": "code",
      "metadata": {
        "id": "KFb1y4u-cAWR"
      },
      "source": [
        "# Using the .shape attribute, compare the dimenions of clean_properties, NaNFreeDF1, and NaNFreeDF2:\n",
        "print(clean_properties.shape)\n",
        "print(NaNFreeDF1.shape)\n",
        "print(NaNFreeDF2.shape)"
      ],
      "execution_count": null,
      "outputs": []
    },
    {
      "cell_type": "markdown",
      "metadata": {
        "id": "R1s7zSOMcAWT"
      },
      "source": [
        "Our suggestions is to pick NaNFreeDF2.\n",
        "\n",
        "Go drop the rest of the invalid 'London Borough' values.\n",
        "\n",
        "An elegant way to do this is to make a list of all those invalid values, then use the *isin()* method, combined with the negation operator *~*, to remove those values. Call this list *nonBoroughs*."
      ]
    },
    {
      "cell_type": "code",
      "metadata": {
        "id": "ZKv_F2zTcAWT"
      },
      "source": [
        "# A list of non-boroughs.\n",
        "nonBoroughs = ['Inner London', 'Outer London',\n",
        "               'NORTH EAST', 'NORTH WEST', 'YORKS & THE HUMBER',\n",
        "               'EAST MIDLANDS', 'WEST MIDLANDS',\n",
        "              'EAST OF ENGLAND', 'LONDON', 'SOUTH EAST',\n",
        "              'SOUTH WEST', 'England']"
      ],
      "execution_count": null,
      "outputs": []
    },
    {
      "cell_type": "markdown",
      "metadata": {
        "id": "htCU6bAlcAWV"
      },
      "source": [
        "Filter *NanFreeDF2* first on the condition that the rows' values for *London_Borough* is *in* the *nonBoroughs* list."
      ]
    },
    {
      "cell_type": "code",
      "metadata": {
        "id": "A93oUrRJcAWV"
      },
      "source": [
        "# Do this here.\n",
        "NaNFreeDF2[NaNFreeDF2.London_Borough.isin(nonBoroughs)]"
      ],
      "execution_count": null,
      "outputs": []
    },
    {
      "cell_type": "markdown",
      "metadata": {
        "id": "7dGYKzu5cAWW"
      },
      "source": [
        "Now put the negation operator *~* before the filter statement to get just those rows whose values for *London_Borough* is **not** in the *nonBoroughs* list:"
      ]
    },
    {
      "cell_type": "code",
      "metadata": {
        "id": "QGsHnDUgcAWX"
      },
      "source": [
        "NaNFreeDF2[~NaNFreeDF2.London_Borough.isin(nonBoroughs)]"
      ],
      "execution_count": null,
      "outputs": []
    },
    {
      "cell_type": "markdown",
      "metadata": {
        "id": "XMd2zFW_cAWa"
      },
      "source": [
        "Then just execute the reassignment:"
      ]
    },
    {
      "cell_type": "code",
      "metadata": {
        "id": "3Y9Tm7BVcAWa"
      },
      "source": [
        "NaNFreeDF2 = NaNFreeDF2[~NaNFreeDF2.London_Borough.isin(nonBoroughs)]"
      ],
      "execution_count": null,
      "outputs": []
    },
    {
      "cell_type": "code",
      "metadata": {
        "id": "91DZpDsxcAWe"
      },
      "source": [
        "NaNFreeDF2.head()"
      ],
      "execution_count": null,
      "outputs": []
    },
    {
      "cell_type": "markdown",
      "metadata": {
        "id": "2-P-vXBFcAWg"
      },
      "source": [
        "Make a new variable called simply *df*, which is what data scientists typically call their final-stage DataFrame that's ready for analysis."
      ]
    },
    {
      "cell_type": "code",
      "metadata": {
        "id": "6sUjFQ1-cAWh"
      },
      "source": [
        "# Do that here.\n",
        "df= NaNFreeDF2"
      ],
      "execution_count": null,
      "outputs": []
    },
    {
      "cell_type": "code",
      "metadata": {
        "id": "IGgspjXGcAWi"
      },
      "source": [
        "df.head()"
      ],
      "execution_count": null,
      "outputs": []
    },
    {
      "cell_type": "code",
      "metadata": {
        "id": "h7rvtjQ_cAWk"
      },
      "source": [
        "df.dtypes"
      ],
      "execution_count": null,
      "outputs": []
    },
    {
      "cell_type": "markdown",
      "metadata": {
        "id": "Gh-4l57acAWm"
      },
      "source": [
        "#### 2.6. Visualizing the data\n",
        "It'll help to get a visual idea of the price shift occurring in the London boroughs.\n",
        "\n",
        "Restrict your observations to Camden for now.\n",
        "\n",
        "How have housing prices changed since 1995?"
      ]
    },
    {
      "cell_type": "code",
      "metadata": {
        "id": "-oow_JhLcAWm"
      },
      "source": [
        "# First of all, make a variable called camden_prices, and assign it the result of filtering df on the following condition:\n",
        "# df['London_Borough'] == 'Camden'\n",
        "camden_prices = df[df['London_Borough'] == 'Camden']\n",
        "\n",
        "# Make a variable called ax. Assign it the result of calling the plot() method, and plugging in the following values as parameters:\n",
        "# kind ='line', x = 'Month', y='Average_price'\n",
        "_ax = camden_prices.plot(kind ='line', x = 'Month', y='Average_price')\n",
        "\n",
        "# Finally, call the set_ylabel() method on ax, and set that label to the string: 'Price'.\n",
        "ax.set_ylabel('Price')"
      ],
      "execution_count": null,
      "outputs": []
    },
    {
      "cell_type": "markdown",
      "metadata": {
        "id": "onOBD9CKcAWo"
      },
      "source": [
        "To limit the amount of temporal data-points, it's useful to extract the year from every value in your *Month* column. 300 is more datapoints than we need.\n",
        "\n",
        "To this end, apply a ***lambda function***. The logic  works as follows. You'll:\n",
        "1. look through the `Month` column\n",
        "2. extract the year from each individual value in that column\n",
        "3. store that corresponding year as separate column"
      ]
    },
    {
      "cell_type": "code",
      "metadata": {
        "id": "rEpQSO0QcAWo"
      },
      "source": [
        "# Try this yourself.\n",
        "df['Year'] = df['Month'].apply(lambda t: t.year)\n",
        "\n",
        "# Call the tail() method on df\n",
        "df.tail()"
      ],
      "execution_count": null,
      "outputs": []
    },
    {
      "cell_type": "markdown",
      "metadata": {
        "id": "Nna5hT-PcAWp"
      },
      "source": [
        "To calculate the mean house price for each year, you first need to **group by** the London_Borough and Year columns.\n",
        "\n",
        "Make a new variable called *dfg*, and assign it the result of calling the ***groupby()*** method on *df*. Plug in the parameters: by=['Borough', 'Year']. Chain ***mean()*** onto your function to get the average of values.\n",
        "\n",
        "We've helped you with this line, it's a little tricky."
      ]
    },
    {
      "cell_type": "code",
      "metadata": {
        "id": "U8erRWaccAWq"
      },
      "source": [
        "# Using the function 'groupby' will help you to calculate the mean for each year and for each Borough.\n",
        "## As you can see, the variables Borough and Year are now indices\n",
        "dfg = df.groupby(by=['London_Borough', 'Year']).mean()\n",
        "dfg.sample(10)"
      ],
      "execution_count": null,
      "outputs": []
    },
    {
      "cell_type": "code",
      "metadata": {
        "id": "UeIsrPVBcAWr"
      },
      "source": [
        "# Let's reset the index for our new DataFrame dfg, and call the head() method on it.\n",
        "dfg = dfg.head()\n",
        "dfg.head()"
      ],
      "execution_count": null,
      "outputs": []
    },
    {
      "cell_type": "markdown",
      "metadata": {
        "id": "gsJ0h6i-cAWs"
      },
      "source": [
        "### 3. Modeling\n",
        "Now comes the really exciting stuff.\n",
        "\n",
        "You'll create a function that will calculate a ratio of house prices, that compares the price of a house in 2018 to the price in 1998.\n",
        "\n",
        "Call this function create_price_ratio.\n",
        "\n",
        "You want this function to:\n",
        "\n",
        "1. Take a filter of dfg, specifically where this filter constrains the London_Borough, as an argument. For example, one admissible argument should be: **dfg[dfg['London_Borough']=='Camden']**.\n",
        "\n",
        "2. Get the Average Price for that borough for 1998 and, seperately, for 2018.\n",
        "\n",
        "3. Calculate the ratio of the Average Price for 1998 divided by the Average Price for 2018.\n",
        "\n",
        "4. Return that ratio.\n",
        "\n",
        "Once you've written this function, you'll use it to iterate through all the unique London Boroughs and work out the ratio capturing the difference of house prices between 1998 and 2018.\n",
        "\n",
        "***Hint***: This section should test the skills you acquired in:\n",
        "- Python Data Science Toolbox (Part 1), all modules\n"
      ]
    },
    {
      "cell_type": "code",
      "metadata": {
        "id": "P2Fx4GnscAWs"
      },
      "source": [
        "# Here's where you should write your function:\n",
        "def create_price_ratio(d):\n",
        "    y1998 = float(d['Average_price'][d['Year']==1998])\n",
        "    y2018 = float(d['Average_price'][d['Year']==2018])\n",
        "    ratio = [y2018/1998]\n",
        "    return ratio\n"
      ],
      "execution_count": null,
      "outputs": []
    },
    {
      "cell_type": "code",
      "metadata": {
        "id": "-L3XXDOfcAWu"
      },
      "source": [
        "#  Test out the function by calling it with the following argument:\n",
        "# dfg[dfg['London_Borough']=='Barking & Dagenham']\n",
        "create_price_ratio(dfg[dfg['London_Borough']=='Barking & Dagenham'])"
      ],
      "execution_count": null,
      "outputs": []
    },
    {
      "cell_type": "code",
      "metadata": {
        "id": "4iznOphscAWv"
      },
      "source": [
        "# We want to do this for all of the London Boroughs.\n",
        "# First, let's make an empty dictionary, called final, where we'll store our ratios for each unique London_Borough.\n",
        "final = {}"
      ],
      "execution_count": null,
      "outputs": []
    },
    {
      "cell_type": "code",
      "metadata": {
        "id": "vXocw7CccAWw"
      },
      "source": [
        "# Now let's declare a for loop that will iterate through each of the unique elements of the 'London_Borough' column of our DataFrame dfg.\n",
        "# Call the iterator variable 'b'.\n",
        "for b dfg['London_Borough'].unique():\n",
        "    # Let's make our parameter to our create_price_ratio function: i.e., we subset dfg on 'London_Borough' == b.\n",
        "    borough = dfg[dfg['London_Borough'] == b]\n",
        "    # Make a new entry in the final dictionary whose value's the result of calling create_price_ratio with the argument: borough\n",
        "    final[b] = create_price_ratio(borough)\n",
        "# We use the function and incorporate that into a new key of the dictionary\n",
        "print(final)"
      ],
      "execution_count": null,
      "outputs": []
    },
    {
      "cell_type": "markdown",
      "metadata": {
        "id": "WNyHvOG8cAWy"
      },
      "source": [
        "Now you have a dictionary with data about the ratio of average prices for each borough between 1998 and 2018,  but you can make it prettier by converting it to a DataFrame."
      ]
    },
    {
      "cell_type": "code",
      "metadata": {
        "id": "VqkwL6mUcAWy"
      },
      "source": [
        "# Make a variable called df_ratios, and assign it the result of calling the DataFrame method on the dictionary final.\n",
        "df_ratios = pd.DataFrame(final)"
      ],
      "execution_count": null,
      "outputs": []
    },
    {
      "cell_type": "code",
      "metadata": {
        "id": "padD0pVNcAW0"
      },
      "source": [
        "# Call the head() method on this variable to check it out.\n",
        "df_ratios.head()"
      ],
      "execution_count": null,
      "outputs": []
    },
    {
      "cell_type": "code",
      "metadata": {
        "id": "01lBHJxrcAW2"
      },
      "source": [
        "# All we need to do now is transpose it, and reset the index!\n",
        "df_ratios_T = index.T\n",
        "df_ratios = df_ratios_T.reset_index()\n",
        "df_ratios.head()"
      ],
      "execution_count": null,
      "outputs": []
    },
    {
      "cell_type": "code",
      "metadata": {
        "id": "zqAiWFF5cAW5"
      },
      "source": [
        "# Let's just rename the 'index' column as 'London_Borough', and the '0' column to '2018'.\n",
        "df_ratios.rename(columns={'index':'Borough', 0:'2018'}, inplace=True)\n",
        "df_ratios.head()"
      ],
      "execution_count": null,
      "outputs": []
    },
    {
      "cell_type": "code",
      "metadata": {
        "id": "1Bj_msyacAW6"
      },
      "source": [
        "# Let's sort in descending order and select the top 15 boroughs.\n",
        "# Make a variable called top15, and assign it the result of calling sort_values() on df_ratios.\n",
        "top15 = df_ratios.sort_values(by='2018',ascending=False).head(15)\n",
        "print(top15)\n"
      ],
      "execution_count": null,
      "outputs": []
    },
    {
      "cell_type": "code",
      "metadata": {
        "id": "Dat6ffSNcAW7"
      },
      "source": [
        "# Let's plot the boroughs that have seen the greatest changes in price.\n",
        "# Make a variable called ax. Assign it the result of filtering top15 on 'Borough' and '2018', then calling plot(), with\n",
        "# the parameter kind = 'bar'.\n",
        "ax = top15[['Borough','2018']].plot(kind='bar')\n",
        "\n",
        "ax.set_xticklabels(top15.Borough)"
      ],
      "execution_count": null,
      "outputs": []
    },
    {
      "cell_type": "markdown",
      "metadata": {
        "id": "dh8A7TaAcAW8"
      },
      "source": [
        "### 4. Conclusion\n",
        "Congratulation!  You're done. Excellent work.\n",
        "\n",
        "What can you conclude? Type your conclusions below.\n",
        "\n",
        "We hope you enjoyed this practical project. It should have consolidated your data cleaning and pandas skills by looking at a real-world problem with the kind of dataset you might encounter as a budding data scientist."
      ]
    }
  ]
}